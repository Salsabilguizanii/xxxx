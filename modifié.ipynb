{
  "nbformat": 4,
  "nbformat_minor": 0,
  "metadata": {
    "colab": {
      "name": "Untitled22.ipynb",
      "provenance": [],
      "collapsed_sections": [],
      "toc_visible": true
    },
    "kernelspec": {
      "name": "python3",
      "display_name": "Python 3"
    },
    "language_info": {
      "name": "python"
    }
  },
  "cells": [
    {
      "cell_type": "markdown",
      "metadata": {
        "id": "b-IYVoQ7SeAU"
      },
      "source": [
        "\n",
        "# **Table of Contents**\n",
        "* [1. Introduction](#chapter1)\n",
        "    * [1.1 Objectif commercial](#section_1_1)\n",
        "    * [1.2 Aperçu de la méthode](sSection_1_2)\n",
        "    * [1.3 Desciption des données](sSection_1_2)\n",
        "    * [1.4 Packages utilisés](sSection_1_2)\n",
        "        \n",
        "* [2. Aperçu général des données](#chapter2)\n",
        "* [3. Prétraitement](#chapter2)\n",
        "* [4. L'analyse exploratoire des données EDA](#chapter2)\n",
        "* [5. Feature engineering](#chapter2)\n",
        "* [6. Modèle](#chapter2)\n",
        "\n",
        "\n"
      ]
    },
    {
      "cell_type": "markdown",
      "metadata": {
        "id": "6gsld1IRFHHH"
      },
      "source": [
        "# **1. Introduction**\n"
      ]
    },
    {
      "cell_type": "markdown",
      "metadata": {
        "id": "9yQwg1nGFLT1"
      },
      "source": [
        "## **1.1 Objectif commercial**\n",
        "  The goal is to identify and form segments of customers based on similar  purchasing characteristics (from transactional data) to inform the sales and marketing strategy of the company. Hypothetically speaking, the company is interested in profiles for customers located in the U.K. where the majority of their customers are concentrated in. In terms of currency, the company hypothetically requested that it be in U.S. dollar rather than in pounds. Lastly, the company also requested that the analysis be based on transactional data from one year (here defined as -> minus one year from the last day of transaction recorded in the dataset)."
      ]
    },
    {
      "cell_type": "markdown",
      "metadata": {
        "id": "ix8oZpG7FSft"
      },
      "source": [
        "## **1.2 Aperçu de la méthode**\n",
        "Segment users based on their consumer profiles using RFM and produced dashboard for hypothetical client (online store marketing and sales team). My mains steps:\n",
        "\n",
        "1. Vous avez une idée générale des données sous-jacentes grâce aux étapes d'exploration de base\n",
        "2. Traitement des valeurs manquantes, des données erronées ou défectueuses, des doublons supprimés et des types de données modifiés.\n",
        "3. Réaliser une analyse exploratoire des données. Exploration de la distribution des variables (c.-à-d. Nombre de livraison) dans le temps (date, mois) et par livreur.\n",
        "4. Pré-traité et mené une analyse de clustering exploratoire des produits; a utilisé l'algorithme non supervisé fastText de Facebook pour créer des vecteurs à partir du nom du produit, puis appliqué des K-means sur le résultat (aucun test statistique n'a été effectué pour tester les performances de clustering de K-means.\n",
        "5. Modèle Linear Regression, Ridge Regression \n",
        "Lasso Regression, ElasticNet Regression utilisés pour ......\n"
      ]
    },
    {
      "cell_type": "markdown",
      "metadata": {
        "id": "ZY-gO8EDFXTm"
      },
      "source": [
        "## **1.3 Description des données**\n",
        "The dataset contains the transaction history of Everything Plus, an online store that sells household goods.\n",
        "\n",
        "Les fichiers **Train.csv**, **Test.csv**, **Riders.csv** contiennent les colonnes suivantes:\n",
        "\n",
        "\n",
        "0.\t**User Id :** \tNuméro unique identifiant le client sur une plateforme\n",
        "1.\t**Vehicle Type :**  Pour cette compétition limitée aux vélos\n",
        "2.\t**Platform Type :**\t Plate-forme utilisée pour passer la commande, il existe 4 types\n",
        "3.\t**Personal or Business :**\t Type de client\n",
        "4.\t**Placement - Day of Month :**\t Placement - Jour du mois soit 1-31\n",
        "5. **Placement - Weekday (Mo = 1) :**\tPlacement - Jour de la semaine (lundi = 1)\n",
        "6. **Placement - Time**\t: Placement - Time - Heure du jour où la commande a été passée\n",
        "7.\t**Confirmation - Day of Month :**\t Confirmation - Jour du mois soit 1-31\n",
        "8.\t**Confirmation - Weekday (Mo = 1) :**\t Confirmation - Jour de la semaine (lundi = 1)\n",
        "9.\t**Confirmation - Time :**\t Confirmation - Heure - Heure du jour où la commande a été confirmée par un coureur\n",
        "10.\t**Arrival at Pickup - Day of Month :**\tArrivée à la prise en charge - Jour du mois, c'est-à-dire 1-31\n",
        "11.\t**Arrival at Pickup - Weekday (Mo = 1) :**\tArrivée au ramassage - en semaine (lundi = 1)\n",
        "12.\t**Arrival at Pickup - Time :**\tHeure de la journée à laquelle le coureur est arrivé à l'endroit pour récupérer la commande\n",
        "13.\t**Pickup - Day of Month :**\t Ramassage - Jour du mois soit 1-31\n",
        "14.\t**Pickup - Weekday (Mo = 1) :**\t Ramassage - Jour de la semaine (Lundi = 1)\n",
        "15.\t**Pickup - Time**\t: Ramassage - Heure - Heure de la journée à laquelle le cavalier récupère la commande\n",
        "16.\t**Arrival at Destination - Day of Month :**Arrivée à la livraison - Jour du mois soit 1-31\n",
        "17.\t**Arrival at Destination - Weekday (Mo = 1) :**\tArrivée à la livraison - Jour de la semaine (lundi = 1)\n",
        "18.\t**Arrival at Destination - Time :**\tHeure d'arrivée à la livraison - Heure de la journée ...\n",
        "19.\t**Distance (KM) :**\t La distance de la prise en charge à la destination\n",
        "20.\t**Temperature :** Température au moment de la passation de la commande en degrés Celsius\n",
        "21.\t**Precipitation in millimeters :** Précipitations au moment de la passation de la commande\n",
        "22.\t**Pickup Lat :**\tLatitude du lieu de ramassage\n",
        "23.\t**Pickup Long :**\tLongitude du lieu de ramassage\n",
        "24.\t**Destination Lat :**\t Latitude du lieu de livraison\n",
        "25.\t**Destination Long :** Longitude du lieu de livraison\n",
        "26.\t**Rider Id :**\t ID du Rider qui a accepté la commande\n",
        "27.\t**Time from Pickup to Arrival :**\tDurée en secondes entre la prise en charge et l'arrivée à destination\n",
        "28.\t**Rider Metrics**\t\n",
        "29.\t**Rider Id :**\t Numéro unique identifiant le cavalier\n",
        "30.\t**No_Of_Orders :** Nombre de commandes que le coureur a livrées\n",
        "31.\t**Age :**\t Nombre de jours depuis que le cavalier a livré la première commande\n",
        "32.\t**Average_Rating :**\t Note moyenne du coureur\n",
        "33.\t**No_of_Ratings :** Nombre de notes que le coureur a reçues."
      ]
    },
    {
      "cell_type": "markdown",
      "metadata": {
        "id": "j51iI8AvGi-t"
      },
      "source": [
        "## **1.4 Packages utilisés**"
      ]
    },
    {
      "cell_type": "code",
      "metadata": {
        "id": "9wtLxXc2HSIg"
      },
      "source": [
        "import numpy as np\n",
        "import pandas as pd\n",
        "import matplotlib.pyplot as plt\n",
        "from sklearn import linear_model\n",
        "\n",
        "%matplotlib inline \n",
        "from matplotlib.ticker import FuncFormatter\n",
        "import matplotlib.style as style\n",
        "\n",
        "import seaborn as sns\n",
        "\n",
        "#Dates\n",
        "import datetime as dt\n",
        "today = dt.datetime.today().strftime(\"%Y.%m.%d\")\n",
        "\n",
        "#Localisation\n",
        "import sys\n",
        "import webbrowser\n",
        "from geopy.distance import geodesic"
      ],
      "execution_count": null,
      "outputs": []
    },
    {
      "cell_type": "markdown",
      "metadata": {
        "id": "-hPz01TIHhOi"
      },
      "source": [
        "# **2. Aperçu général des données**\n",
        "\n",
        "\n"
      ]
    },
    {
      "cell_type": "code",
      "metadata": {
        "colab": {
          "base_uri": "https://localhost:8080/",
          "height": 400
        },
        "id": "68rQQncUFfwl",
        "outputId": "a1aefca5-87a5-4a2d-c5ad-ab779dc81bd1"
      },
      "source": [
        "import pandas as pd\n",
        "import numpy as np\n",
        "import matplotlib.pyplot as plt\n",
        "\n",
        "train = pd.read_csv(\"/content/drive/MyDrive/Train.csv\")\n",
        "test = pd.read_csv(\"/content/drive/MyDrive/Test.csv\")\n",
        "riders = pd.read_csv(\"/content/drive/MyDrive/Riders.csv\")\n",
        "\n",
        "train.head()"
      ],
      "execution_count": null,
      "outputs": [
        {
          "output_type": "execute_result",
          "data": {
            "text/html": [
              "<div>\n",
              "<style scoped>\n",
              "    .dataframe tbody tr th:only-of-type {\n",
              "        vertical-align: middle;\n",
              "    }\n",
              "\n",
              "    .dataframe tbody tr th {\n",
              "        vertical-align: top;\n",
              "    }\n",
              "\n",
              "    .dataframe thead th {\n",
              "        text-align: right;\n",
              "    }\n",
              "</style>\n",
              "<table border=\"1\" class=\"dataframe\">\n",
              "  <thead>\n",
              "    <tr style=\"text-align: right;\">\n",
              "      <th></th>\n",
              "      <th>Order No</th>\n",
              "      <th>User Id</th>\n",
              "      <th>Vehicle Type</th>\n",
              "      <th>Platform Type</th>\n",
              "      <th>Personal or Business</th>\n",
              "      <th>Placement - Day of Month</th>\n",
              "      <th>Placement - Weekday (Mo = 1)</th>\n",
              "      <th>Placement - Time</th>\n",
              "      <th>Confirmation - Day of Month</th>\n",
              "      <th>Confirmation - Weekday (Mo = 1)</th>\n",
              "      <th>Confirmation - Time</th>\n",
              "      <th>Arrival at Pickup - Day of Month</th>\n",
              "      <th>Arrival at Pickup - Weekday (Mo = 1)</th>\n",
              "      <th>Arrival at Pickup - Time</th>\n",
              "      <th>Pickup - Day of Month</th>\n",
              "      <th>Pickup - Weekday (Mo = 1)</th>\n",
              "      <th>Pickup - Time</th>\n",
              "      <th>Arrival at Destination - Day of Month</th>\n",
              "      <th>Arrival at Destination - Weekday (Mo = 1)</th>\n",
              "      <th>Arrival at Destination - Time</th>\n",
              "      <th>Distance (KM)</th>\n",
              "      <th>Temperature</th>\n",
              "      <th>Precipitation in millimeters</th>\n",
              "      <th>Pickup Lat</th>\n",
              "      <th>Pickup Long</th>\n",
              "      <th>Destination Lat</th>\n",
              "      <th>Destination Long</th>\n",
              "      <th>Rider Id</th>\n",
              "      <th>Time from Pickup to Arrival</th>\n",
              "    </tr>\n",
              "  </thead>\n",
              "  <tbody>\n",
              "    <tr>\n",
              "      <th>0</th>\n",
              "      <td>Order_No_4211</td>\n",
              "      <td>User_Id_633</td>\n",
              "      <td>Bike</td>\n",
              "      <td>3</td>\n",
              "      <td>Business</td>\n",
              "      <td>9</td>\n",
              "      <td>5</td>\n",
              "      <td>9:35:46 AM</td>\n",
              "      <td>9</td>\n",
              "      <td>5</td>\n",
              "      <td>9:40:10 AM</td>\n",
              "      <td>9</td>\n",
              "      <td>5</td>\n",
              "      <td>10:04:47 AM</td>\n",
              "      <td>9</td>\n",
              "      <td>5</td>\n",
              "      <td>10:27:30 AM</td>\n",
              "      <td>9</td>\n",
              "      <td>5</td>\n",
              "      <td>10:39:55 AM</td>\n",
              "      <td>4</td>\n",
              "      <td>20.4</td>\n",
              "      <td>NaN</td>\n",
              "      <td>-1.317755</td>\n",
              "      <td>36.830370</td>\n",
              "      <td>-1.300406</td>\n",
              "      <td>36.829741</td>\n",
              "      <td>Rider_Id_432</td>\n",
              "      <td>745</td>\n",
              "    </tr>\n",
              "    <tr>\n",
              "      <th>1</th>\n",
              "      <td>Order_No_25375</td>\n",
              "      <td>User_Id_2285</td>\n",
              "      <td>Bike</td>\n",
              "      <td>3</td>\n",
              "      <td>Personal</td>\n",
              "      <td>12</td>\n",
              "      <td>5</td>\n",
              "      <td>11:16:16 AM</td>\n",
              "      <td>12</td>\n",
              "      <td>5</td>\n",
              "      <td>11:23:21 AM</td>\n",
              "      <td>12</td>\n",
              "      <td>5</td>\n",
              "      <td>11:40:22 AM</td>\n",
              "      <td>12</td>\n",
              "      <td>5</td>\n",
              "      <td>11:44:09 AM</td>\n",
              "      <td>12</td>\n",
              "      <td>5</td>\n",
              "      <td>12:17:22 PM</td>\n",
              "      <td>16</td>\n",
              "      <td>26.4</td>\n",
              "      <td>NaN</td>\n",
              "      <td>-1.351453</td>\n",
              "      <td>36.899315</td>\n",
              "      <td>-1.295004</td>\n",
              "      <td>36.814358</td>\n",
              "      <td>Rider_Id_856</td>\n",
              "      <td>1993</td>\n",
              "    </tr>\n",
              "    <tr>\n",
              "      <th>2</th>\n",
              "      <td>Order_No_1899</td>\n",
              "      <td>User_Id_265</td>\n",
              "      <td>Bike</td>\n",
              "      <td>3</td>\n",
              "      <td>Business</td>\n",
              "      <td>30</td>\n",
              "      <td>2</td>\n",
              "      <td>12:39:25 PM</td>\n",
              "      <td>30</td>\n",
              "      <td>2</td>\n",
              "      <td>12:42:44 PM</td>\n",
              "      <td>30</td>\n",
              "      <td>2</td>\n",
              "      <td>12:49:34 PM</td>\n",
              "      <td>30</td>\n",
              "      <td>2</td>\n",
              "      <td>12:53:03 PM</td>\n",
              "      <td>30</td>\n",
              "      <td>2</td>\n",
              "      <td>1:00:38 PM</td>\n",
              "      <td>3</td>\n",
              "      <td>NaN</td>\n",
              "      <td>NaN</td>\n",
              "      <td>-1.308284</td>\n",
              "      <td>36.843419</td>\n",
              "      <td>-1.300921</td>\n",
              "      <td>36.828195</td>\n",
              "      <td>Rider_Id_155</td>\n",
              "      <td>455</td>\n",
              "    </tr>\n",
              "    <tr>\n",
              "      <th>3</th>\n",
              "      <td>Order_No_9336</td>\n",
              "      <td>User_Id_1402</td>\n",
              "      <td>Bike</td>\n",
              "      <td>3</td>\n",
              "      <td>Business</td>\n",
              "      <td>15</td>\n",
              "      <td>5</td>\n",
              "      <td>9:25:34 AM</td>\n",
              "      <td>15</td>\n",
              "      <td>5</td>\n",
              "      <td>9:26:05 AM</td>\n",
              "      <td>15</td>\n",
              "      <td>5</td>\n",
              "      <td>9:37:56 AM</td>\n",
              "      <td>15</td>\n",
              "      <td>5</td>\n",
              "      <td>9:43:06 AM</td>\n",
              "      <td>15</td>\n",
              "      <td>5</td>\n",
              "      <td>10:05:27 AM</td>\n",
              "      <td>9</td>\n",
              "      <td>19.2</td>\n",
              "      <td>NaN</td>\n",
              "      <td>-1.281301</td>\n",
              "      <td>36.832396</td>\n",
              "      <td>-1.257147</td>\n",
              "      <td>36.795063</td>\n",
              "      <td>Rider_Id_855</td>\n",
              "      <td>1341</td>\n",
              "    </tr>\n",
              "    <tr>\n",
              "      <th>4</th>\n",
              "      <td>Order_No_27883</td>\n",
              "      <td>User_Id_1737</td>\n",
              "      <td>Bike</td>\n",
              "      <td>1</td>\n",
              "      <td>Personal</td>\n",
              "      <td>13</td>\n",
              "      <td>1</td>\n",
              "      <td>9:55:18 AM</td>\n",
              "      <td>13</td>\n",
              "      <td>1</td>\n",
              "      <td>9:56:18 AM</td>\n",
              "      <td>13</td>\n",
              "      <td>1</td>\n",
              "      <td>10:03:53 AM</td>\n",
              "      <td>13</td>\n",
              "      <td>1</td>\n",
              "      <td>10:05:23 AM</td>\n",
              "      <td>13</td>\n",
              "      <td>1</td>\n",
              "      <td>10:25:37 AM</td>\n",
              "      <td>9</td>\n",
              "      <td>15.4</td>\n",
              "      <td>NaN</td>\n",
              "      <td>-1.266597</td>\n",
              "      <td>36.792118</td>\n",
              "      <td>-1.295041</td>\n",
              "      <td>36.809817</td>\n",
              "      <td>Rider_Id_770</td>\n",
              "      <td>1214</td>\n",
              "    </tr>\n",
              "  </tbody>\n",
              "</table>\n",
              "</div>"
            ],
            "text/plain": [
              "         Order No       User Id  ...      Rider Id  Time from Pickup to Arrival\n",
              "0   Order_No_4211   User_Id_633  ...  Rider_Id_432                          745\n",
              "1  Order_No_25375  User_Id_2285  ...  Rider_Id_856                         1993\n",
              "2   Order_No_1899   User_Id_265  ...  Rider_Id_155                          455\n",
              "3   Order_No_9336  User_Id_1402  ...  Rider_Id_855                         1341\n",
              "4  Order_No_27883  User_Id_1737  ...  Rider_Id_770                         1214\n",
              "\n",
              "[5 rows x 29 columns]"
            ]
          },
          "metadata": {
            "tags": []
          },
          "execution_count": 9
        }
      ]
    },
    {
      "cell_type": "markdown",
      "metadata": {
        "id": "junQYT8rGPse"
      },
      "source": [
        "# **3. Prétraitement**"
      ]
    },
    {
      "cell_type": "markdown",
      "metadata": {
        "id": "VRq20NeAJmAy"
      },
      "source": [
        "# **4. L'analyse exploratoire des données EDA**"
      ]
    },
    {
      "cell_type": "markdown",
      "metadata": {
        "id": "0P9MeOKzJ9eT"
      },
      "source": [
        "\n",
        "# **5. Feature engineering**"
      ]
    },
    {
      "cell_type": "code",
      "metadata": {
        "id": "QU_8yyyqOl4K"
      },
      "source": [
        "Training_Feature_Eng = train.copy()\n",
        "Testing_Feature_Eng  = test.copy()"
      ],
      "execution_count": null,
      "outputs": []
    },
    {
      "cell_type": "markdown",
      "metadata": {
        "id": "ey9VefkxQpK4"
      },
      "source": [
        "##**5.1 Placement Time of Day**\n",
        "\n",
        "*   Nous avons créé une nouvelle variable (*Placement Time of Day*) pour (*Placement-Time*) afin d'extraire la partie heure pour les deux bases Training_Feature_Eng et Testing_Feature_Eng.\n",
        "\n"
      ]
    },
    {
      "cell_type": "code",
      "metadata": {
        "id": "Zovvig1gOrf8"
      },
      "source": [
        "from datetime import datetime as dt\n",
        "Training_Feature_Eng['Placement - Time'] = Training_Feature_Eng['Placement - Time'].apply(lambda x: dt.strptime(x,'%I:%M:%S %p'))\n",
        "Training_Feature_Eng['Placement Time of Day'] = Training_Feature_Eng['Placement - Time'].dt.hour"
      ],
      "execution_count": null,
      "outputs": []
    },
    {
      "cell_type": "markdown",
      "metadata": {
        "id": "rDGYsTuVSKiH"
      },
      "source": [
        "\n",
        "\n",
        "*   Nous avons créé de nouveaux variables (*Confirmation Time of Day, Pickup Time of Day, Arrival at Pickup Time of Day et Arrival at Destination Time of Day*) pour chaque variable temps comme celle de  (*Placement Time of Day*) pour les convertir en heures.\n",
        "\n"
      ]
    },
    {
      "cell_type": "markdown",
      "metadata": {
        "id": "eWhYgI0jXK92"
      },
      "source": [
        "## **5.2 Actual Day of Placement**"
      ]
    },
    {
      "cell_type": "markdown",
      "metadata": {
        "id": "TnjAWrV1VSXD"
      },
      "source": [
        "\n",
        "\n",
        "*   D'après les statistiques que nous avons fait, nous avons remarqué que le nombre de livraison est très grands en Jour de la semaine par rapport au weekend.\n",
        "*   Nous avons créé de nouvelles variables - Regroupement de la variable \"...Weekday (Mo=1)\" 'Weekday' et 'Weekend'.\n",
        "\n",
        "      1.   Weekday commence du lundi = 1 au vendredi = 5\n",
        "      2.   Weekend commence du samedi = 6 et dimanche = 7\n",
        "\n",
        "\n",
        "\n"
      ]
    },
    {
      "cell_type": "code",
      "metadata": {
        "id": "y4np5YqSX3ZO"
      },
      "source": [
        "Training_Feature_Eng['Actual Day of Placement'] = np.where(Training_Feature_Eng['Placement - Weekday (Mo = 1)']< 6,\n",
        "                                                   'Weekday','Weekend')"
      ],
      "execution_count": null,
      "outputs": []
    },
    {
      "cell_type": "code",
      "metadata": {
        "colab": {
          "base_uri": "https://localhost:8080/"
        },
        "id": "01R3l4gxX5aB",
        "outputId": "a8a26abb-d2a3-498c-ec85-9dd064581ef5"
      },
      "source": [
        "print(Training_Feature_Eng['Actual Day of Placement'].head())"
      ],
      "execution_count": null,
      "outputs": [
        {
          "output_type": "stream",
          "text": [
            "0    Weekday\n",
            "1    Weekday\n",
            "2    Weekday\n",
            "3    Weekday\n",
            "4    Weekday\n",
            "Name: Actual Day of Placement, dtype: object\n"
          ],
          "name": "stdout"
        }
      ]
    },
    {
      "cell_type": "markdown",
      "metadata": {
        "id": "TNnh7In5YUJR"
      },
      "source": [
        "## **5.3 Pickup Latitude , Pickup Longitude**\n",
        "\n",
        "\n",
        "*   Nous avons utilisé Central Business District (CBD) of Nairobi comme référence.\n",
        "*   Nous avons créé  deux nouveaux variables (*Proximity to Pickup Point* et *Proximity to Pickup Destination*) dans lesquels nous avons utilisé les cordonnées (*Pickup Lat* et *Pickup Long*, *Destination Lat* et *Destination Long*) pour calculer la distance en KM par rapport au centre.\n",
        "\n"
      ]
    },
    {
      "cell_type": "code",
      "metadata": {
        "id": "ON_FCJxhbsgm"
      },
      "source": [
        "from geopy.distance import geodesic\n",
        "\n",
        "Training_Feature_Eng['Proximity to Pickup Point'] = np.nan\n",
        "\n",
        "CBD_Nairobi=(-1.299719, 36.816097)\n",
        "\n",
        "for i, row in Training_Feature_Eng.iterrows():\n",
        "    Training_Feature_Eng.loc[i, 'Proximity to Pickup Point'] = geodesic((Training_Feature_Eng.loc[i, 'Pickup Lat'],\n",
        "                                                                  Training_Feature_Eng.loc[i, 'Pickup Long']),CBD_Nairobi).km \n",
        "for i, row in Training_Feature_Eng.iterrows():\n",
        "    Training_Feature_Eng.loc[i, 'Proximity to Destination'] = geodesic((Training_Feature_Eng.loc[i, 'Destination Lat'],\n",
        "                                                                  Training_Feature_Eng.loc[i, 'Destination Long']),CBD_Nairobi).km"
      ],
      "execution_count": null,
      "outputs": []
    },
    {
      "cell_type": "code",
      "metadata": {
        "colab": {
          "base_uri": "https://localhost:8080/"
        },
        "id": "3RaXzlzfb3qY",
        "outputId": "88602454-f902-4d46-faa6-98f3292ca128"
      },
      "source": [
        "print(Training_Feature_Eng['Proximity to Pickup Point'].head())"
      ],
      "execution_count": null,
      "outputs": [
        {
          "output_type": "stream",
          "text": [
            "0     2.549607\n",
            "1    10.885586\n",
            "2     3.184815\n",
            "3     2.727265\n",
            "4     4.531556\n",
            "Name: Proximity to Pickup Point, dtype: float64\n"
          ],
          "name": "stdout"
        }
      ]
    },
    {
      "cell_type": "markdown",
      "metadata": {
        "id": "Ll_qfopClXog"
      },
      "source": [
        "## **5.4 Placement Day of Month**\n",
        "\n",
        "\n",
        "*   Nous avons regroupé les jours du mois en 4 semaines :\n",
        "\n",
        "    1.   1st Week du premier jour au 7ème\n",
        "    2.   2nd Week du 8ème jour au 15ème\n",
        "    3.   3rd Week du 16ème jour au 23ème\n",
        "    4.   4th Week le reste du mois\n",
        "\n",
        "\n",
        "\n"
      ]
    },
    {
      "cell_type": "code",
      "metadata": {
        "id": "FqZbPLoDmB7Y"
      },
      "source": [
        "Place_Day_Month = []\n",
        "\n",
        "for Each_Day in Training_Feature_Eng['Placement - Day of Month']:\n",
        "    if (Each_Day > 0 and Each_Day <=7):\n",
        "        Place_Day_Month.append('1st Week')        \n",
        "    elif (Each_Day > 7 and Each_Day <=15):\n",
        "        Place_Day_Month.append('2nd Week')\n",
        "    elif (Each_Day > 15 and Each_Day <=23):\n",
        "        Place_Day_Month.append('3rd Week')\n",
        "    else:\n",
        "        Place_Day_Month.append('4th Week')\n",
        "        \n",
        "Training_Feature_Eng['Placement_Day into Weeks'] = Place_Day_Month\n"
      ],
      "execution_count": null,
      "outputs": []
    },
    {
      "cell_type": "code",
      "metadata": {
        "colab": {
          "base_uri": "https://localhost:8080/"
        },
        "id": "oB5J31JOnUg7",
        "outputId": "d952d939-66be-4735-ace4-b5c2e67c1e7c"
      },
      "source": [
        "print(Training_Feature_Eng['Placement_Day into Weeks'].head())"
      ],
      "execution_count": null,
      "outputs": [
        {
          "output_type": "stream",
          "text": [
            "0    2nd Week\n",
            "1    2nd Week\n",
            "2    4th Week\n",
            "3    2nd Week\n",
            "4    2nd Week\n",
            "Name: Placement_Day into Weeks, dtype: object\n"
          ],
          "name": "stdout"
        }
      ]
    },
    {
      "cell_type": "markdown",
      "metadata": {
        "id": "rgRpqgpgn41o"
      },
      "source": [
        "\n",
        "\n",
        "*   Nous avons regroupé les autres variables (*Confirmation Day of Month, Arrival at Pickup Day of Month, Pickup Day of Month, Arrival at Destination Day of Month*) en 4 semaines comme (*Placement Day of Month*)\n",
        "\n",
        "\n"
      ]
    },
    {
      "cell_type": "markdown",
      "metadata": {
        "id": "jRfBfME6qOJo"
      },
      "source": [
        "\n",
        "\n",
        "*   **Vérification pour voir le délai de livraison moyen en seconde pour les jours de la semaine et les week-ends pour le placement de la commande**\n",
        "\n",
        "\n",
        "\n"
      ]
    },
    {
      "cell_type": "code",
      "metadata": {
        "colab": {
          "base_uri": "https://localhost:8080/",
          "height": 106
        },
        "id": "GJ-3URfvpzcg",
        "outputId": "357fceee-7057-4dee-bf38-dfcdac8628c2"
      },
      "source": [
        "Weekend_Weekday = Training_Feature_Eng.groupby(['Actual Day of Placement'], as_index=False).mean()\n",
        "Weekend_Weekday[['Actual Day of Placement','Time from Pickup to Arrival']].sort_values('Time from Pickup to Arrival',ascending=False)"
      ],
      "execution_count": null,
      "outputs": [
        {
          "output_type": "execute_result",
          "data": {
            "text/html": [
              "<div>\n",
              "<style scoped>\n",
              "    .dataframe tbody tr th:only-of-type {\n",
              "        vertical-align: middle;\n",
              "    }\n",
              "\n",
              "    .dataframe tbody tr th {\n",
              "        vertical-align: top;\n",
              "    }\n",
              "\n",
              "    .dataframe thead th {\n",
              "        text-align: right;\n",
              "    }\n",
              "</style>\n",
              "<table border=\"1\" class=\"dataframe\">\n",
              "  <thead>\n",
              "    <tr style=\"text-align: right;\">\n",
              "      <th></th>\n",
              "      <th>Actual Day of Placement</th>\n",
              "      <th>Time from Pickup to Arrival</th>\n",
              "    </tr>\n",
              "  </thead>\n",
              "  <tbody>\n",
              "    <tr>\n",
              "      <th>0</th>\n",
              "      <td>Weekday</td>\n",
              "      <td>1562.609337</td>\n",
              "    </tr>\n",
              "    <tr>\n",
              "      <th>1</th>\n",
              "      <td>Weekend</td>\n",
              "      <td>1477.017033</td>\n",
              "    </tr>\n",
              "  </tbody>\n",
              "</table>\n",
              "</div>"
            ],
            "text/plain": [
              "  Actual Day of Placement  Time from Pickup to Arrival\n",
              "0                 Weekday                  1562.609337\n",
              "1                 Weekend                  1477.017033"
            ]
          },
          "metadata": {
            "tags": []
          },
          "execution_count": 27
        }
      ]
    },
    {
      "cell_type": "markdown",
      "metadata": {
        "id": "druwERhsp3r8"
      },
      "source": [
        "\n",
        "*  Nous avons remarqué que dans les week-ends les livraisons sont plus rapide par rapport au jour de la semaine.\n",
        "\n"
      ]
    },
    {
      "cell_type": "markdown",
      "metadata": {
        "id": "6kD87mTtUmNd"
      },
      "source": [
        "## **5.5 Enregistrer d'autres données nettoyées**\n",
        "\n",
        "*  Séparation des variables catégoriques et des variables numeriques\n",
        "\n",
        "\n"
      ]
    },
    {
      "cell_type": "code",
      "metadata": {
        "id": "NmrCatMYrfTh"
      },
      "source": [
        "Numeric_Train = Training_Feature_Eng._get_numeric_data()\n",
        "Categorical_Train = Training_Feature_Eng.select_dtypes(include=['object'])"
      ],
      "execution_count": null,
      "outputs": []
    },
    {
      "cell_type": "code",
      "metadata": {
        "colab": {
          "base_uri": "https://localhost:8080/",
          "height": 174
        },
        "id": "ZtGTXOXSrmNb",
        "outputId": "09422613-f7fc-446b-f2b8-bc66e174d5dd"
      },
      "source": [
        "Categorical_Train.head(2)"
      ],
      "execution_count": null,
      "outputs": [
        {
          "output_type": "execute_result",
          "data": {
            "text/html": [
              "<div>\n",
              "<style scoped>\n",
              "    .dataframe tbody tr th:only-of-type {\n",
              "        vertical-align: middle;\n",
              "    }\n",
              "\n",
              "    .dataframe tbody tr th {\n",
              "        vertical-align: top;\n",
              "    }\n",
              "\n",
              "    .dataframe thead th {\n",
              "        text-align: right;\n",
              "    }\n",
              "</style>\n",
              "<table border=\"1\" class=\"dataframe\">\n",
              "  <thead>\n",
              "    <tr style=\"text-align: right;\">\n",
              "      <th></th>\n",
              "      <th>Order No</th>\n",
              "      <th>User Id</th>\n",
              "      <th>Vehicle Type</th>\n",
              "      <th>Personal or Business</th>\n",
              "      <th>Confirmation - Time</th>\n",
              "      <th>Arrival at Pickup - Time</th>\n",
              "      <th>Pickup - Time</th>\n",
              "      <th>Arrival at Destination - Time</th>\n",
              "      <th>Rider Id</th>\n",
              "      <th>Actual Day of Placement</th>\n",
              "      <th>Placement_Day into Weeks</th>\n",
              "    </tr>\n",
              "  </thead>\n",
              "  <tbody>\n",
              "    <tr>\n",
              "      <th>0</th>\n",
              "      <td>Order_No_4211</td>\n",
              "      <td>User_Id_633</td>\n",
              "      <td>Bike</td>\n",
              "      <td>Business</td>\n",
              "      <td>9:40:10 AM</td>\n",
              "      <td>10:04:47 AM</td>\n",
              "      <td>10:27:30 AM</td>\n",
              "      <td>10:39:55 AM</td>\n",
              "      <td>Rider_Id_432</td>\n",
              "      <td>Weekday</td>\n",
              "      <td>2nd Week</td>\n",
              "    </tr>\n",
              "    <tr>\n",
              "      <th>1</th>\n",
              "      <td>Order_No_25375</td>\n",
              "      <td>User_Id_2285</td>\n",
              "      <td>Bike</td>\n",
              "      <td>Personal</td>\n",
              "      <td>11:23:21 AM</td>\n",
              "      <td>11:40:22 AM</td>\n",
              "      <td>11:44:09 AM</td>\n",
              "      <td>12:17:22 PM</td>\n",
              "      <td>Rider_Id_856</td>\n",
              "      <td>Weekday</td>\n",
              "      <td>2nd Week</td>\n",
              "    </tr>\n",
              "  </tbody>\n",
              "</table>\n",
              "</div>"
            ],
            "text/plain": [
              "         Order No  ... Placement_Day into Weeks\n",
              "0   Order_No_4211  ...                 2nd Week\n",
              "1  Order_No_25375  ...                 2nd Week\n",
              "\n",
              "[2 rows x 11 columns]"
            ]
          },
          "metadata": {
            "tags": []
          },
          "execution_count": 29
        }
      ]
    },
    {
      "cell_type": "markdown",
      "metadata": {
        "id": "Rg1H4y3otRoO"
      },
      "source": [
        "## **5.6 Feature Selection**\n",
        "\n",
        "*   Nous avons abandonné certaines variables qui, selon nous, n'avaient aucune influence sur la variable (*Time from Pickup to Arrival*)\n",
        "*   Nous appliquons Label Encoder aux variables catégorielles.\n",
        "\n",
        "*   Nous avons identifié des caractéristiques à faible variance. Ainsi, les caractéristiques qui ont une valeur constante ou qui n'ont pas beaucoup de variabilité. Ces variables peuvent ne pas aider avec la tâche prédictive et peuvent donc être supprimées.\n",
        "*   Encore une fois, nous trouvons la multicolinéarité entre les variables d'entrée. La présence de caractéristiques multicolores gonfle l'erreur standard.\n",
        "\n",
        "\n",
        "\n",
        "\n",
        "\n",
        "\n",
        "\n"
      ]
    },
    {
      "cell_type": "markdown",
      "metadata": {
        "id": "SFz2OyInuHan"
      },
      "source": [
        "\n",
        "\n",
        "### **Supprimer les variables Order No, User Id, Rider Id et Vehicle Type**\n",
        "\n"
      ]
    },
    {
      "cell_type": "code",
      "metadata": {
        "id": "EaGhd39tup1U"
      },
      "source": [
        "Droppers = ['Order No','User Id','Vehicle Type','Rider Id']"
      ],
      "execution_count": null,
      "outputs": []
    },
    {
      "cell_type": "markdown",
      "metadata": {
        "id": "C4dXbcL8u0tU"
      },
      "source": [
        "### **Encodage des Variables**"
      ]
    },
    {
      "cell_type": "code",
      "metadata": {
        "id": "v5u6-Fb-vMsq"
      },
      "source": [
        "Encod_Cate_Train = pd.get_dummies(Categorical_Train)"
      ],
      "execution_count": null,
      "outputs": []
    },
    {
      "cell_type": "code",
      "metadata": {
        "colab": {
          "base_uri": "https://localhost:8080/",
          "height": 294
        },
        "id": "MQ2EM7RsvRyD",
        "outputId": "d9bf639a-23ab-4871-c127-40550602ea83"
      },
      "source": [
        "Encod_Cate_Train.head()"
      ],
      "execution_count": null,
      "outputs": [
        {
          "output_type": "execute_result",
          "data": {
            "text/html": [
              "<div>\n",
              "<style scoped>\n",
              "    .dataframe tbody tr th:only-of-type {\n",
              "        vertical-align: middle;\n",
              "    }\n",
              "\n",
              "    .dataframe tbody tr th {\n",
              "        vertical-align: top;\n",
              "    }\n",
              "\n",
              "    .dataframe thead th {\n",
              "        text-align: right;\n",
              "    }\n",
              "</style>\n",
              "<table border=\"1\" class=\"dataframe\">\n",
              "  <thead>\n",
              "    <tr style=\"text-align: right;\">\n",
              "      <th></th>\n",
              "      <th>Order No_Order_No_1</th>\n",
              "      <th>Order No_Order_No_10</th>\n",
              "      <th>Order No_Order_No_100</th>\n",
              "      <th>Order No_Order_No_1000</th>\n",
              "      <th>Order No_Order_No_10000</th>\n",
              "      <th>Order No_Order_No_10002</th>\n",
              "      <th>Order No_Order_No_10004</th>\n",
              "      <th>Order No_Order_No_10005</th>\n",
              "      <th>Order No_Order_No_10006</th>\n",
              "      <th>Order No_Order_No_10007</th>\n",
              "      <th>Order No_Order_No_10008</th>\n",
              "      <th>Order No_Order_No_10009</th>\n",
              "      <th>Order No_Order_No_1001</th>\n",
              "      <th>Order No_Order_No_10011</th>\n",
              "      <th>Order No_Order_No_10013</th>\n",
              "      <th>Order No_Order_No_10014</th>\n",
              "      <th>Order No_Order_No_10016</th>\n",
              "      <th>Order No_Order_No_10019</th>\n",
              "      <th>Order No_Order_No_1002</th>\n",
              "      <th>Order No_Order_No_10020</th>\n",
              "      <th>Order No_Order_No_10021</th>\n",
              "      <th>Order No_Order_No_10023</th>\n",
              "      <th>Order No_Order_No_10025</th>\n",
              "      <th>Order No_Order_No_10026</th>\n",
              "      <th>Order No_Order_No_10027</th>\n",
              "      <th>Order No_Order_No_10028</th>\n",
              "      <th>Order No_Order_No_10029</th>\n",
              "      <th>Order No_Order_No_1003</th>\n",
              "      <th>Order No_Order_No_10030</th>\n",
              "      <th>Order No_Order_No_10031</th>\n",
              "      <th>Order No_Order_No_10032</th>\n",
              "      <th>Order No_Order_No_10034</th>\n",
              "      <th>Order No_Order_No_10035</th>\n",
              "      <th>Order No_Order_No_10036</th>\n",
              "      <th>Order No_Order_No_10037</th>\n",
              "      <th>Order No_Order_No_10039</th>\n",
              "      <th>Order No_Order_No_10041</th>\n",
              "      <th>Order No_Order_No_10042</th>\n",
              "      <th>Order No_Order_No_10043</th>\n",
              "      <th>Order No_Order_No_10044</th>\n",
              "      <th>...</th>\n",
              "      <th>Rider Id_Rider_Id_930</th>\n",
              "      <th>Rider Id_Rider_Id_931</th>\n",
              "      <th>Rider Id_Rider_Id_932</th>\n",
              "      <th>Rider Id_Rider_Id_933</th>\n",
              "      <th>Rider Id_Rider_Id_934</th>\n",
              "      <th>Rider Id_Rider_Id_935</th>\n",
              "      <th>Rider Id_Rider_Id_936</th>\n",
              "      <th>Rider Id_Rider_Id_937</th>\n",
              "      <th>Rider Id_Rider_Id_938</th>\n",
              "      <th>Rider Id_Rider_Id_939</th>\n",
              "      <th>Rider Id_Rider_Id_94</th>\n",
              "      <th>Rider Id_Rider_Id_940</th>\n",
              "      <th>Rider Id_Rider_Id_941</th>\n",
              "      <th>Rider Id_Rider_Id_942</th>\n",
              "      <th>Rider Id_Rider_Id_943</th>\n",
              "      <th>Rider Id_Rider_Id_944</th>\n",
              "      <th>Rider Id_Rider_Id_946</th>\n",
              "      <th>Rider Id_Rider_Id_947</th>\n",
              "      <th>Rider Id_Rider_Id_948</th>\n",
              "      <th>Rider Id_Rider_Id_949</th>\n",
              "      <th>Rider Id_Rider_Id_95</th>\n",
              "      <th>Rider Id_Rider_Id_950</th>\n",
              "      <th>Rider Id_Rider_Id_951</th>\n",
              "      <th>Rider Id_Rider_Id_952</th>\n",
              "      <th>Rider Id_Rider_Id_953</th>\n",
              "      <th>Rider Id_Rider_Id_954</th>\n",
              "      <th>Rider Id_Rider_Id_955</th>\n",
              "      <th>Rider Id_Rider_Id_956</th>\n",
              "      <th>Rider Id_Rider_Id_958</th>\n",
              "      <th>Rider Id_Rider_Id_959</th>\n",
              "      <th>Rider Id_Rider_Id_96</th>\n",
              "      <th>Rider Id_Rider_Id_97</th>\n",
              "      <th>Rider Id_Rider_Id_98</th>\n",
              "      <th>Rider Id_Rider_Id_99</th>\n",
              "      <th>Actual Day of Placement_Weekday</th>\n",
              "      <th>Actual Day of Placement_Weekend</th>\n",
              "      <th>Placement_Day into Weeks_1st Week</th>\n",
              "      <th>Placement_Day into Weeks_2nd Week</th>\n",
              "      <th>Placement_Day into Weeks_3rd Week</th>\n",
              "      <th>Placement_Day into Weeks_4th Week</th>\n",
              "    </tr>\n",
              "  </thead>\n",
              "  <tbody>\n",
              "    <tr>\n",
              "      <th>0</th>\n",
              "      <td>0</td>\n",
              "      <td>0</td>\n",
              "      <td>0</td>\n",
              "      <td>0</td>\n",
              "      <td>0</td>\n",
              "      <td>0</td>\n",
              "      <td>0</td>\n",
              "      <td>0</td>\n",
              "      <td>0</td>\n",
              "      <td>0</td>\n",
              "      <td>0</td>\n",
              "      <td>0</td>\n",
              "      <td>0</td>\n",
              "      <td>0</td>\n",
              "      <td>0</td>\n",
              "      <td>0</td>\n",
              "      <td>0</td>\n",
              "      <td>0</td>\n",
              "      <td>0</td>\n",
              "      <td>0</td>\n",
              "      <td>0</td>\n",
              "      <td>0</td>\n",
              "      <td>0</td>\n",
              "      <td>0</td>\n",
              "      <td>0</td>\n",
              "      <td>0</td>\n",
              "      <td>0</td>\n",
              "      <td>0</td>\n",
              "      <td>0</td>\n",
              "      <td>0</td>\n",
              "      <td>0</td>\n",
              "      <td>0</td>\n",
              "      <td>0</td>\n",
              "      <td>0</td>\n",
              "      <td>0</td>\n",
              "      <td>0</td>\n",
              "      <td>0</td>\n",
              "      <td>0</td>\n",
              "      <td>0</td>\n",
              "      <td>0</td>\n",
              "      <td>...</td>\n",
              "      <td>0</td>\n",
              "      <td>0</td>\n",
              "      <td>0</td>\n",
              "      <td>0</td>\n",
              "      <td>0</td>\n",
              "      <td>0</td>\n",
              "      <td>0</td>\n",
              "      <td>0</td>\n",
              "      <td>0</td>\n",
              "      <td>0</td>\n",
              "      <td>0</td>\n",
              "      <td>0</td>\n",
              "      <td>0</td>\n",
              "      <td>0</td>\n",
              "      <td>0</td>\n",
              "      <td>0</td>\n",
              "      <td>0</td>\n",
              "      <td>0</td>\n",
              "      <td>0</td>\n",
              "      <td>0</td>\n",
              "      <td>0</td>\n",
              "      <td>0</td>\n",
              "      <td>0</td>\n",
              "      <td>0</td>\n",
              "      <td>0</td>\n",
              "      <td>0</td>\n",
              "      <td>0</td>\n",
              "      <td>0</td>\n",
              "      <td>0</td>\n",
              "      <td>0</td>\n",
              "      <td>0</td>\n",
              "      <td>0</td>\n",
              "      <td>0</td>\n",
              "      <td>0</td>\n",
              "      <td>1</td>\n",
              "      <td>0</td>\n",
              "      <td>0</td>\n",
              "      <td>1</td>\n",
              "      <td>0</td>\n",
              "      <td>0</td>\n",
              "    </tr>\n",
              "    <tr>\n",
              "      <th>1</th>\n",
              "      <td>0</td>\n",
              "      <td>0</td>\n",
              "      <td>0</td>\n",
              "      <td>0</td>\n",
              "      <td>0</td>\n",
              "      <td>0</td>\n",
              "      <td>0</td>\n",
              "      <td>0</td>\n",
              "      <td>0</td>\n",
              "      <td>0</td>\n",
              "      <td>0</td>\n",
              "      <td>0</td>\n",
              "      <td>0</td>\n",
              "      <td>0</td>\n",
              "      <td>0</td>\n",
              "      <td>0</td>\n",
              "      <td>0</td>\n",
              "      <td>0</td>\n",
              "      <td>0</td>\n",
              "      <td>0</td>\n",
              "      <td>0</td>\n",
              "      <td>0</td>\n",
              "      <td>0</td>\n",
              "      <td>0</td>\n",
              "      <td>0</td>\n",
              "      <td>0</td>\n",
              "      <td>0</td>\n",
              "      <td>0</td>\n",
              "      <td>0</td>\n",
              "      <td>0</td>\n",
              "      <td>0</td>\n",
              "      <td>0</td>\n",
              "      <td>0</td>\n",
              "      <td>0</td>\n",
              "      <td>0</td>\n",
              "      <td>0</td>\n",
              "      <td>0</td>\n",
              "      <td>0</td>\n",
              "      <td>0</td>\n",
              "      <td>0</td>\n",
              "      <td>...</td>\n",
              "      <td>0</td>\n",
              "      <td>0</td>\n",
              "      <td>0</td>\n",
              "      <td>0</td>\n",
              "      <td>0</td>\n",
              "      <td>0</td>\n",
              "      <td>0</td>\n",
              "      <td>0</td>\n",
              "      <td>0</td>\n",
              "      <td>0</td>\n",
              "      <td>0</td>\n",
              "      <td>0</td>\n",
              "      <td>0</td>\n",
              "      <td>0</td>\n",
              "      <td>0</td>\n",
              "      <td>0</td>\n",
              "      <td>0</td>\n",
              "      <td>0</td>\n",
              "      <td>0</td>\n",
              "      <td>0</td>\n",
              "      <td>0</td>\n",
              "      <td>0</td>\n",
              "      <td>0</td>\n",
              "      <td>0</td>\n",
              "      <td>0</td>\n",
              "      <td>0</td>\n",
              "      <td>0</td>\n",
              "      <td>0</td>\n",
              "      <td>0</td>\n",
              "      <td>0</td>\n",
              "      <td>0</td>\n",
              "      <td>0</td>\n",
              "      <td>0</td>\n",
              "      <td>0</td>\n",
              "      <td>1</td>\n",
              "      <td>0</td>\n",
              "      <td>0</td>\n",
              "      <td>1</td>\n",
              "      <td>0</td>\n",
              "      <td>0</td>\n",
              "    </tr>\n",
              "    <tr>\n",
              "      <th>2</th>\n",
              "      <td>0</td>\n",
              "      <td>0</td>\n",
              "      <td>0</td>\n",
              "      <td>0</td>\n",
              "      <td>0</td>\n",
              "      <td>0</td>\n",
              "      <td>0</td>\n",
              "      <td>0</td>\n",
              "      <td>0</td>\n",
              "      <td>0</td>\n",
              "      <td>0</td>\n",
              "      <td>0</td>\n",
              "      <td>0</td>\n",
              "      <td>0</td>\n",
              "      <td>0</td>\n",
              "      <td>0</td>\n",
              "      <td>0</td>\n",
              "      <td>0</td>\n",
              "      <td>0</td>\n",
              "      <td>0</td>\n",
              "      <td>0</td>\n",
              "      <td>0</td>\n",
              "      <td>0</td>\n",
              "      <td>0</td>\n",
              "      <td>0</td>\n",
              "      <td>0</td>\n",
              "      <td>0</td>\n",
              "      <td>0</td>\n",
              "      <td>0</td>\n",
              "      <td>0</td>\n",
              "      <td>0</td>\n",
              "      <td>0</td>\n",
              "      <td>0</td>\n",
              "      <td>0</td>\n",
              "      <td>0</td>\n",
              "      <td>0</td>\n",
              "      <td>0</td>\n",
              "      <td>0</td>\n",
              "      <td>0</td>\n",
              "      <td>0</td>\n",
              "      <td>...</td>\n",
              "      <td>0</td>\n",
              "      <td>0</td>\n",
              "      <td>0</td>\n",
              "      <td>0</td>\n",
              "      <td>0</td>\n",
              "      <td>0</td>\n",
              "      <td>0</td>\n",
              "      <td>0</td>\n",
              "      <td>0</td>\n",
              "      <td>0</td>\n",
              "      <td>0</td>\n",
              "      <td>0</td>\n",
              "      <td>0</td>\n",
              "      <td>0</td>\n",
              "      <td>0</td>\n",
              "      <td>0</td>\n",
              "      <td>0</td>\n",
              "      <td>0</td>\n",
              "      <td>0</td>\n",
              "      <td>0</td>\n",
              "      <td>0</td>\n",
              "      <td>0</td>\n",
              "      <td>0</td>\n",
              "      <td>0</td>\n",
              "      <td>0</td>\n",
              "      <td>0</td>\n",
              "      <td>0</td>\n",
              "      <td>0</td>\n",
              "      <td>0</td>\n",
              "      <td>0</td>\n",
              "      <td>0</td>\n",
              "      <td>0</td>\n",
              "      <td>0</td>\n",
              "      <td>0</td>\n",
              "      <td>1</td>\n",
              "      <td>0</td>\n",
              "      <td>0</td>\n",
              "      <td>0</td>\n",
              "      <td>0</td>\n",
              "      <td>1</td>\n",
              "    </tr>\n",
              "    <tr>\n",
              "      <th>3</th>\n",
              "      <td>0</td>\n",
              "      <td>0</td>\n",
              "      <td>0</td>\n",
              "      <td>0</td>\n",
              "      <td>0</td>\n",
              "      <td>0</td>\n",
              "      <td>0</td>\n",
              "      <td>0</td>\n",
              "      <td>0</td>\n",
              "      <td>0</td>\n",
              "      <td>0</td>\n",
              "      <td>0</td>\n",
              "      <td>0</td>\n",
              "      <td>0</td>\n",
              "      <td>0</td>\n",
              "      <td>0</td>\n",
              "      <td>0</td>\n",
              "      <td>0</td>\n",
              "      <td>0</td>\n",
              "      <td>0</td>\n",
              "      <td>0</td>\n",
              "      <td>0</td>\n",
              "      <td>0</td>\n",
              "      <td>0</td>\n",
              "      <td>0</td>\n",
              "      <td>0</td>\n",
              "      <td>0</td>\n",
              "      <td>0</td>\n",
              "      <td>0</td>\n",
              "      <td>0</td>\n",
              "      <td>0</td>\n",
              "      <td>0</td>\n",
              "      <td>0</td>\n",
              "      <td>0</td>\n",
              "      <td>0</td>\n",
              "      <td>0</td>\n",
              "      <td>0</td>\n",
              "      <td>0</td>\n",
              "      <td>0</td>\n",
              "      <td>0</td>\n",
              "      <td>...</td>\n",
              "      <td>0</td>\n",
              "      <td>0</td>\n",
              "      <td>0</td>\n",
              "      <td>0</td>\n",
              "      <td>0</td>\n",
              "      <td>0</td>\n",
              "      <td>0</td>\n",
              "      <td>0</td>\n",
              "      <td>0</td>\n",
              "      <td>0</td>\n",
              "      <td>0</td>\n",
              "      <td>0</td>\n",
              "      <td>0</td>\n",
              "      <td>0</td>\n",
              "      <td>0</td>\n",
              "      <td>0</td>\n",
              "      <td>0</td>\n",
              "      <td>0</td>\n",
              "      <td>0</td>\n",
              "      <td>0</td>\n",
              "      <td>0</td>\n",
              "      <td>0</td>\n",
              "      <td>0</td>\n",
              "      <td>0</td>\n",
              "      <td>0</td>\n",
              "      <td>0</td>\n",
              "      <td>0</td>\n",
              "      <td>0</td>\n",
              "      <td>0</td>\n",
              "      <td>0</td>\n",
              "      <td>0</td>\n",
              "      <td>0</td>\n",
              "      <td>0</td>\n",
              "      <td>0</td>\n",
              "      <td>1</td>\n",
              "      <td>0</td>\n",
              "      <td>0</td>\n",
              "      <td>1</td>\n",
              "      <td>0</td>\n",
              "      <td>0</td>\n",
              "    </tr>\n",
              "    <tr>\n",
              "      <th>4</th>\n",
              "      <td>0</td>\n",
              "      <td>0</td>\n",
              "      <td>0</td>\n",
              "      <td>0</td>\n",
              "      <td>0</td>\n",
              "      <td>0</td>\n",
              "      <td>0</td>\n",
              "      <td>0</td>\n",
              "      <td>0</td>\n",
              "      <td>0</td>\n",
              "      <td>0</td>\n",
              "      <td>0</td>\n",
              "      <td>0</td>\n",
              "      <td>0</td>\n",
              "      <td>0</td>\n",
              "      <td>0</td>\n",
              "      <td>0</td>\n",
              "      <td>0</td>\n",
              "      <td>0</td>\n",
              "      <td>0</td>\n",
              "      <td>0</td>\n",
              "      <td>0</td>\n",
              "      <td>0</td>\n",
              "      <td>0</td>\n",
              "      <td>0</td>\n",
              "      <td>0</td>\n",
              "      <td>0</td>\n",
              "      <td>0</td>\n",
              "      <td>0</td>\n",
              "      <td>0</td>\n",
              "      <td>0</td>\n",
              "      <td>0</td>\n",
              "      <td>0</td>\n",
              "      <td>0</td>\n",
              "      <td>0</td>\n",
              "      <td>0</td>\n",
              "      <td>0</td>\n",
              "      <td>0</td>\n",
              "      <td>0</td>\n",
              "      <td>0</td>\n",
              "      <td>...</td>\n",
              "      <td>0</td>\n",
              "      <td>0</td>\n",
              "      <td>0</td>\n",
              "      <td>0</td>\n",
              "      <td>0</td>\n",
              "      <td>0</td>\n",
              "      <td>0</td>\n",
              "      <td>0</td>\n",
              "      <td>0</td>\n",
              "      <td>0</td>\n",
              "      <td>0</td>\n",
              "      <td>0</td>\n",
              "      <td>0</td>\n",
              "      <td>0</td>\n",
              "      <td>0</td>\n",
              "      <td>0</td>\n",
              "      <td>0</td>\n",
              "      <td>0</td>\n",
              "      <td>0</td>\n",
              "      <td>0</td>\n",
              "      <td>0</td>\n",
              "      <td>0</td>\n",
              "      <td>0</td>\n",
              "      <td>0</td>\n",
              "      <td>0</td>\n",
              "      <td>0</td>\n",
              "      <td>0</td>\n",
              "      <td>0</td>\n",
              "      <td>0</td>\n",
              "      <td>0</td>\n",
              "      <td>0</td>\n",
              "      <td>0</td>\n",
              "      <td>0</td>\n",
              "      <td>0</td>\n",
              "      <td>1</td>\n",
              "      <td>0</td>\n",
              "      <td>0</td>\n",
              "      <td>1</td>\n",
              "      <td>0</td>\n",
              "      <td>0</td>\n",
              "    </tr>\n",
              "  </tbody>\n",
              "</table>\n",
              "<p>5 rows × 88244 columns</p>\n",
              "</div>"
            ],
            "text/plain": [
              "   Order No_Order_No_1  ...  Placement_Day into Weeks_4th Week\n",
              "0                    0  ...                                  0\n",
              "1                    0  ...                                  0\n",
              "2                    0  ...                                  1\n",
              "3                    0  ...                                  0\n",
              "4                    0  ...                                  0\n",
              "\n",
              "[5 rows x 88244 columns]"
            ]
          },
          "metadata": {
            "tags": []
          },
          "execution_count": 32
        }
      ]
    },
    {
      "cell_type": "markdown",
      "metadata": {
        "id": "h5v91ccdvgp6"
      },
      "source": [
        "\n",
        "\n",
        "*   Dans la fonction ci-dessous, nous avons calculé le facteur d'inflation de la variance (VIF) et déterminons et supprimons les caractéristiques qui ont une faible variance\n",
        "\n",
        "\n"
      ]
    },
    {
      "cell_type": "code",
      "metadata": {
        "colab": {
          "base_uri": "https://localhost:8080/"
        },
        "id": "6leQA0XlvpG4",
        "outputId": "b94401fd-be3f-4d2a-e9a1-b7748df690d7"
      },
      "source": [
        "from statsmodels.stats.outliers_influence import variance_inflation_factor\n",
        "def VIF(Numeric_Train, thresh=15):\n",
        "    variables = list(range(Numeric_Train.shape[1]))\n",
        "    dropped = True\n",
        "    while dropped:\n",
        "        dropped = False\n",
        "        vif = [variance_inflation_factor(Numeric_Train.iloc[:, variables].values, ix)\n",
        "               for ix in range(Numeric_Train.iloc[:, variables].shape[1])]\n",
        "        maxloc = vif.index(max(vif))\n",
        "        if max(vif) > thresh:\n",
        "            print('dropping \\'' + Numeric_Train.iloc[:, variables].columns[maxloc] + '\\' at index: ' + str(maxloc))\n",
        "            del variables[maxloc]\n",
        "            dropped = True\n",
        "\n",
        "    print('Remaining Variables are :')\n",
        "    print(Numeric_Train.columns[variables])\n",
        "    return Numeric_Train.iloc[:, variables]"
      ],
      "execution_count": null,
      "outputs": [
        {
          "output_type": "stream",
          "text": [
            "/usr/local/lib/python3.7/dist-packages/statsmodels/tools/_testing.py:19: FutureWarning: pandas.util.testing is deprecated. Use the functions in the public API at pandas.testing instead.\n",
            "  import pandas.util.testing as tm\n"
          ],
          "name": "stderr"
        }
      ]
    },
    {
      "cell_type": "code",
      "metadata": {
        "id": "9v7JHRcMvtL1"
      },
      "source": [
        "Cleaned_Train = VIF(Numeric_Train,15)"
      ],
      "execution_count": null,
      "outputs": []
    },
    {
      "cell_type": "markdown",
      "metadata": {
        "id": "SpbTekfrMPkB"
      },
      "source": [
        "![test.jpg](data:image/jpeg;base64,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)"
      ]
    },
    {
      "cell_type": "markdown",
      "metadata": {
        "id": "Y5lUpMbEwAmP"
      },
      "source": [
        "\n",
        "\n",
        "*   Nous remarquons qu'il ya plusieurs variables qui n'ont pas d'influence sur la variable Target et qu'il reste sseulement les variables : 'Platform Type', 'Placement - Weekday (Mo = 1)',\n",
        "       'Arrival at Destination - Day of Month', 'Distance (KM)',\n",
        "       'Precipitation in millimeters', 'Time from Pickup to Arrival',\n",
        "       'Proximity to Pickup Point', 'Proximity to Destination'\n",
        "\n",
        "\n"
      ]
    },
    {
      "cell_type": "markdown",
      "metadata": {
        "id": "hGh1p2MjxA_Y"
      },
      "source": [
        "### **Concaténation des données encodées avec des données nettoyées**"
      ]
    },
    {
      "cell_type": "code",
      "metadata": {
        "id": "NJ0jKTFRxHVV"
      },
      "source": [
        "Training_Cleaned = pd.concat([Encod_Cate_Train, Cleaned_Train], axis=1)"
      ],
      "execution_count": null,
      "outputs": []
    },
    {
      "cell_type": "markdown",
      "metadata": {
        "id": "XnlxEzaKMyIl"
      },
      "source": [
        "# **6. Modèle**"
      ]
    }
  ]
}