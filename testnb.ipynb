{
  "nbformat": 4,
  "nbformat_minor": 0,
  "metadata": {
    "colab": {
      "name": "Untitled22.ipynb",
      "provenance": [],
      "collapsed_sections": [],
      "toc_visible": true
    },
    "kernelspec": {
      "name": "python3",
      "display_name": "Python 3"
    },
    "language_info": {
      "name": "python"
    }
  },
  "cells": [
    {
      "cell_type": "markdown",
      "metadata": {
        "id": "6gsld1IRFHHH"
      },
      "source": [
        "# **1. Introduction**"
      ]
    },
    {
      "cell_type": "markdown",
      "metadata": {
        "id": "9yQwg1nGFLT1"
      },
      "source": [
        "## **1.1 Objectif commercial**\n",
        "  The goal is to identify and form segments of customers based on similar  purchasing characteristics (from transactional data) to inform the sales and marketing strategy of the company. Hypothetically speaking, the company is interested in profiles for customers located in the U.K. where the majority of their customers are concentrated in. In terms of currency, the company hypothetically requested that it be in U.S. dollar rather than in pounds. Lastly, the company also requested that the analysis be based on transactional data from one year (here defined as -> minus one year from the last day of transaction recorded in the dataset)."
      ]
    },
    {
      "cell_type": "markdown",
      "metadata": {
        "id": "ix8oZpG7FSft"
      },
      "source": [
        "## **1.2 Aperçu de la méthode**\n",
        "Segment users based on their consumer profiles using RFM and produced dashboard for hypothetical client (online store marketing and sales team). My mains steps:\n",
        "\n",
        "1. Vous avez une idée générale des données sous-jacentes grâce aux étapes d'exploration de base\n",
        "2. Traitement des valeurs manquantes, des données erronées ou défectueuses, des doublons supprimés et des types de données modifiés.\n",
        "3. Réaliser une analyse exploratoire des données. Exploration de la distribution des variables (c.-à-d. Nombre de livraison) dans le temps (date, mois) et par livreur.\n",
        "4. Pré-traité et mené une analyse de clustering exploratoire des produits; a utilisé l'algorithme non supervisé fastText de Facebook pour créer des vecteurs à partir du nom du produit, puis appliqué des K-means sur le résultat (aucun test statistique n'a été effectué pour tester les performances de clustering de K-means.\n",
        "5. Modèle Linear Regression, Ridge Regression \n",
        "Lasso Regression, ElasticNet Regression utilisés pour ......\n"
      ]
    },
    {
      "cell_type": "markdown",
      "metadata": {
        "id": "ZY-gO8EDFXTm"
      },
      "source": [
        "## **1.3 Description des données**\n",
        "The dataset contains the transaction history of Everything Plus, an online store that sells household goods.\n",
        "\n",
        "Les fichiers **Train.csv**, **Test.csv**, **Riders.csv** contiennent les colonnes suivantes:\n",
        "\n",
        "\n",
        "0.\t**User Id :** \tNuméro unique identifiant le client sur une plateforme\n",
        "1.\t**Vehicle Type :**  Pour cette compétition limitée aux vélos\n",
        "2.\t**Platform Type :**\t Plate-forme utilisée pour passer la commande, il existe 4 types\n",
        "3.\t**Personal or Business :**\t Type de client\n",
        "4.\t**Placement - Day of Month :**\t Placement - Jour du mois soit 1-31\n",
        "5. **Placement - Weekday (Mo = 1) :**\tPlacement - Jour de la semaine (lundi = 1)\n",
        "6. **Placement - Time**\t: Placement - Time - Heure du jour où la commande a été passée\n",
        "7.\t**Confirmation - Day of Month :**\t Confirmation - Jour du mois soit 1-31\n",
        "8.\t**Confirmation - Weekday (Mo = 1) :**\t Confirmation - Jour de la semaine (lundi = 1)\n",
        "9.\t**Confirmation - Time :**\t Confirmation - Heure - Heure du jour où la commande a été confirmée par un coureur\n",
        "10.\t**Arrival at Pickup - Day of Month :**\tArrivée à la prise en charge - Jour du mois, c'est-à-dire 1-31\n",
        "11.\t**Arrival at Pickup - Weekday (Mo = 1) :**\tArrivée au ramassage - en semaine (lundi = 1)\n",
        "12.\t**Arrival at Pickup - Time :**\tHeure de la journée à laquelle le coureur est arrivé à l'endroit pour récupérer la commande\n",
        "13.\t**Pickup - Day of Month :**\t Ramassage - Jour du mois soit 1-31\n",
        "14.\t**Pickup - Weekday (Mo = 1) :**\t Ramassage - Jour de la semaine (Lundi = 1)\n",
        "15.\t**Pickup - Time**\t: Ramassage - Heure - Heure de la journée à laquelle le cavalier récupère la commande\n",
        "16.\t**Arrival at Destination - Day of Month :**Arrivée à la livraison - Jour du mois soit 1-31\n",
        "17.\t**Arrival at Destination - Weekday (Mo = 1) :**\tArrivée à la livraison - Jour de la semaine (lundi = 1)\n",
        "18.\t**Arrival at Destination - Time :**\tHeure d'arrivée à la livraison - Heure de la journée ...\n",
        "19.\t**Distance (KM) :**\t La distance de la prise en charge à la destination\n",
        "20.\t**Temperature :** Température au moment de la passation de la commande en degrés Celsius\n",
        "21.\t**Precipitation in millimeters :** Précipitations au moment de la passation de la commande\n",
        "22.\t**Pickup Lat :**\tLatitude du lieu de ramassage\n",
        "23.\t**Pickup Long :**\tLongitude du lieu de ramassage\n",
        "24.\t**Destination Lat :**\t Latitude du lieu de livraison\n",
        "25.\t**Destination Long :** Longitude du lieu de livraison\n",
        "26.\t**Rider Id :**\t ID du Rider qui a accepté la commande\n",
        "27.\t**Time from Pickup to Arrival :**\tDurée en secondes entre la prise en charge et l'arrivée à destination\n",
        "28.\t**Rider Metrics**\t\n",
        "29.\t**Rider Id :**\t Numéro unique identifiant le cavalier\n",
        "30.\t**No_Of_Orders :** Nombre de commandes que le coureur a livrées\n",
        "31.\t**Age :**\t Nombre de jours depuis que le cavalier a livré la première commande\n",
        "32.\t**Average_Rating :**\t Note moyenne du coureur\n",
        "33.\t**No_of_Ratings :** Nombre de notes que le coureur a reçues."
      ]
    },
    {
      "cell_type": "markdown",
      "metadata": {
        "id": "j51iI8AvGi-t"
      },
      "source": [
        "## **1.4 Packages utilisés**"
      ]
    },
    {
      "cell_type": "code",
      "metadata": {
        "id": "9wtLxXc2HSIg"
      },
      "source": [
        "import numpy as np\n",
        "import pandas as pd\n",
        "import matplotlib.pyplot as plt\n",
        "from sklearn import linear_model\n",
        "\n",
        "%matplotlib inline \n",
        "from matplotlib.ticker import FuncFormatter\n",
        "import matplotlib.style as style\n",
        "\n",
        "import seaborn as sns\n",
        "\n",
        "#Dates\n",
        "import datetime as dt\n",
        "today = dt.datetime.today().strftime(\"%Y.%m.%d\")\n",
        "\n",
        "#Localisation\n",
        "import sys\n",
        "import webbrowser\n",
        "from geopy.distance import geodesic"
      ],
      "execution_count": null,
      "outputs": []
    },
    {
      "cell_type": "markdown",
      "metadata": {
        "id": "-hPz01TIHhOi"
      },
      "source": [
        "# **2. Aperçu général des données**\n",
        "\n",
        "\n"
      ]
    },
    {
      "cell_type": "code",
      "metadata": {
        "colab": {
          "base_uri": "https://localhost:8080/",
          "height": 400
        },
        "id": "68rQQncUFfwl",
        "outputId": "a1aefca5-87a5-4a2d-c5ad-ab779dc81bd1"
      },
      "source": [
        "import pandas as pd\n",
        "import numpy as np\n",
        "import matplotlib.pyplot as plt\n",
        "\n",
        "train = pd.read_csv(\"/content/drive/MyDrive/Train.csv\")\n",
        "test = pd.read_csv(\"/content/drive/MyDrive/Test.csv\")\n",
        "riders = pd.read_csv(\"/content/drive/MyDrive/Riders.csv\")\n",
        "\n",
        "train.head()"
      ],
      "execution_count": null,
      "outputs": [
        {
          "output_type": "execute_result",
          "data": {
            "text/html": [
              "<div>\n",
              "<style scoped>\n",
              "    .dataframe tbody tr th:only-of-type {\n",
              "        vertical-align: middle;\n",
              "    }\n",
              "\n",
              "    .dataframe tbody tr th {\n",
              "        vertical-align: top;\n",
              "    }\n",
              "\n",
              "    .dataframe thead th {\n",
              "        text-align: right;\n",
              "    }\n",
              "</style>\n",
              "<table border=\"1\" class=\"dataframe\">\n",
              "  <thead>\n",
              "    <tr style=\"text-align: right;\">\n",
              "      <th></th>\n",
              "      <th>Order No</th>\n",
              "      <th>User Id</th>\n",
              "      <th>Vehicle Type</th>\n",
              "      <th>Platform Type</th>\n",
              "      <th>Personal or Business</th>\n",
              "      <th>Placement - Day of Month</th>\n",
              "      <th>Placement - Weekday (Mo = 1)</th>\n",
              "      <th>Placement - Time</th>\n",
              "      <th>Confirmation - Day of Month</th>\n",
              "      <th>Confirmation - Weekday (Mo = 1)</th>\n",
              "      <th>Confirmation - Time</th>\n",
              "      <th>Arrival at Pickup - Day of Month</th>\n",
              "      <th>Arrival at Pickup - Weekday (Mo = 1)</th>\n",
              "      <th>Arrival at Pickup - Time</th>\n",
              "      <th>Pickup - Day of Month</th>\n",
              "      <th>Pickup - Weekday (Mo = 1)</th>\n",
              "      <th>Pickup - Time</th>\n",
              "      <th>Arrival at Destination - Day of Month</th>\n",
              "      <th>Arrival at Destination - Weekday (Mo = 1)</th>\n",
              "      <th>Arrival at Destination - Time</th>\n",
              "      <th>Distance (KM)</th>\n",
              "      <th>Temperature</th>\n",
              "      <th>Precipitation in millimeters</th>\n",
              "      <th>Pickup Lat</th>\n",
              "      <th>Pickup Long</th>\n",
              "      <th>Destination Lat</th>\n",
              "      <th>Destination Long</th>\n",
              "      <th>Rider Id</th>\n",
              "      <th>Time from Pickup to Arrival</th>\n",
              "    </tr>\n",
              "  </thead>\n",
              "  <tbody>\n",
              "    <tr>\n",
              "      <th>0</th>\n",
              "      <td>Order_No_4211</td>\n",
              "      <td>User_Id_633</td>\n",
              "      <td>Bike</td>\n",
              "      <td>3</td>\n",
              "      <td>Business</td>\n",
              "      <td>9</td>\n",
              "      <td>5</td>\n",
              "      <td>9:35:46 AM</td>\n",
              "      <td>9</td>\n",
              "      <td>5</td>\n",
              "      <td>9:40:10 AM</td>\n",
              "      <td>9</td>\n",
              "      <td>5</td>\n",
              "      <td>10:04:47 AM</td>\n",
              "      <td>9</td>\n",
              "      <td>5</td>\n",
              "      <td>10:27:30 AM</td>\n",
              "      <td>9</td>\n",
              "      <td>5</td>\n",
              "      <td>10:39:55 AM</td>\n",
              "      <td>4</td>\n",
              "      <td>20.4</td>\n",
              "      <td>NaN</td>\n",
              "      <td>-1.317755</td>\n",
              "      <td>36.830370</td>\n",
              "      <td>-1.300406</td>\n",
              "      <td>36.829741</td>\n",
              "      <td>Rider_Id_432</td>\n",
              "      <td>745</td>\n",
              "    </tr>\n",
              "    <tr>\n",
              "      <th>1</th>\n",
              "      <td>Order_No_25375</td>\n",
              "      <td>User_Id_2285</td>\n",
              "      <td>Bike</td>\n",
              "      <td>3</td>\n",
              "      <td>Personal</td>\n",
              "      <td>12</td>\n",
              "      <td>5</td>\n",
              "      <td>11:16:16 AM</td>\n",
              "      <td>12</td>\n",
              "      <td>5</td>\n",
              "      <td>11:23:21 AM</td>\n",
              "      <td>12</td>\n",
              "      <td>5</td>\n",
              "      <td>11:40:22 AM</td>\n",
              "      <td>12</td>\n",
              "      <td>5</td>\n",
              "      <td>11:44:09 AM</td>\n",
              "      <td>12</td>\n",
              "      <td>5</td>\n",
              "      <td>12:17:22 PM</td>\n",
              "      <td>16</td>\n",
              "      <td>26.4</td>\n",
              "      <td>NaN</td>\n",
              "      <td>-1.351453</td>\n",
              "      <td>36.899315</td>\n",
              "      <td>-1.295004</td>\n",
              "      <td>36.814358</td>\n",
              "      <td>Rider_Id_856</td>\n",
              "      <td>1993</td>\n",
              "    </tr>\n",
              "    <tr>\n",
              "      <th>2</th>\n",
              "      <td>Order_No_1899</td>\n",
              "      <td>User_Id_265</td>\n",
              "      <td>Bike</td>\n",
              "      <td>3</td>\n",
              "      <td>Business</td>\n",
              "      <td>30</td>\n",
              "      <td>2</td>\n",
              "      <td>12:39:25 PM</td>\n",
              "      <td>30</td>\n",
              "      <td>2</td>\n",
              "      <td>12:42:44 PM</td>\n",
              "      <td>30</td>\n",
              "      <td>2</td>\n",
              "      <td>12:49:34 PM</td>\n",
              "      <td>30</td>\n",
              "      <td>2</td>\n",
              "      <td>12:53:03 PM</td>\n",
              "      <td>30</td>\n",
              "      <td>2</td>\n",
              "      <td>1:00:38 PM</td>\n",
              "      <td>3</td>\n",
              "      <td>NaN</td>\n",
              "      <td>NaN</td>\n",
              "      <td>-1.308284</td>\n",
              "      <td>36.843419</td>\n",
              "      <td>-1.300921</td>\n",
              "      <td>36.828195</td>\n",
              "      <td>Rider_Id_155</td>\n",
              "      <td>455</td>\n",
              "    </tr>\n",
              "    <tr>\n",
              "      <th>3</th>\n",
              "      <td>Order_No_9336</td>\n",
              "      <td>User_Id_1402</td>\n",
              "      <td>Bike</td>\n",
              "      <td>3</td>\n",
              "      <td>Business</td>\n",
              "      <td>15</td>\n",
              "      <td>5</td>\n",
              "      <td>9:25:34 AM</td>\n",
              "      <td>15</td>\n",
              "      <td>5</td>\n",
              "      <td>9:26:05 AM</td>\n",
              "      <td>15</td>\n",
              "      <td>5</td>\n",
              "      <td>9:37:56 AM</td>\n",
              "      <td>15</td>\n",
              "      <td>5</td>\n",
              "      <td>9:43:06 AM</td>\n",
              "      <td>15</td>\n",
              "      <td>5</td>\n",
              "      <td>10:05:27 AM</td>\n",
              "      <td>9</td>\n",
              "      <td>19.2</td>\n",
              "      <td>NaN</td>\n",
              "      <td>-1.281301</td>\n",
              "      <td>36.832396</td>\n",
              "      <td>-1.257147</td>\n",
              "      <td>36.795063</td>\n",
              "      <td>Rider_Id_855</td>\n",
              "      <td>1341</td>\n",
              "    </tr>\n",
              "    <tr>\n",
              "      <th>4</th>\n",
              "      <td>Order_No_27883</td>\n",
              "      <td>User_Id_1737</td>\n",
              "      <td>Bike</td>\n",
              "      <td>1</td>\n",
              "      <td>Personal</td>\n",
              "      <td>13</td>\n",
              "      <td>1</td>\n",
              "      <td>9:55:18 AM</td>\n",
              "      <td>13</td>\n",
              "      <td>1</td>\n",
              "      <td>9:56:18 AM</td>\n",
              "      <td>13</td>\n",
              "      <td>1</td>\n",
              "      <td>10:03:53 AM</td>\n",
              "      <td>13</td>\n",
              "      <td>1</td>\n",
              "      <td>10:05:23 AM</td>\n",
              "      <td>13</td>\n",
              "      <td>1</td>\n",
              "      <td>10:25:37 AM</td>\n",
              "      <td>9</td>\n",
              "      <td>15.4</td>\n",
              "      <td>NaN</td>\n",
              "      <td>-1.266597</td>\n",
              "      <td>36.792118</td>\n",
              "      <td>-1.295041</td>\n",
              "      <td>36.809817</td>\n",
              "      <td>Rider_Id_770</td>\n",
              "      <td>1214</td>\n",
              "    </tr>\n",
              "  </tbody>\n",
              "</table>\n",
              "</div>"
            ],
            "text/plain": [
              "         Order No       User Id  ...      Rider Id  Time from Pickup to Arrival\n",
              "0   Order_No_4211   User_Id_633  ...  Rider_Id_432                          745\n",
              "1  Order_No_25375  User_Id_2285  ...  Rider_Id_856                         1993\n",
              "2   Order_No_1899   User_Id_265  ...  Rider_Id_155                          455\n",
              "3   Order_No_9336  User_Id_1402  ...  Rider_Id_855                         1341\n",
              "4  Order_No_27883  User_Id_1737  ...  Rider_Id_770                         1214\n",
              "\n",
              "[5 rows x 29 columns]"
            ]
          },
          "metadata": {
            "tags": []
          },
          "execution_count": 9
        }
      ]
    },
    {
      "cell_type": "markdown",
      "metadata": {
        "id": "junQYT8rGPse"
      },
      "source": [
        "# **3. Prétraitement**"
      ]
    },
    {
      "cell_type": "markdown",
      "metadata": {
        "id": "VRq20NeAJmAy"
      },
      "source": [
        "# **4. L'analyse exploratoire des données EDA**"
      ]
    },
    {
      "cell_type": "markdown",
      "metadata": {
        "id": "0P9MeOKzJ9eT"
      },
      "source": [
        "# **5. Feature Engineering**"
      ]
    },
    {
      "cell_type": "code",
      "metadata": {
        "id": "QU_8yyyqOl4K"
      },
      "source": [
        "Training_Feature_Eng = train.copy()\n",
        "Testing_Feature_Eng  = test.copy()"
      ],
      "execution_count": null,
      "outputs": []
    },
    {
      "cell_type": "markdown",
      "metadata": {
        "id": "ey9VefkxQpK4"
      },
      "source": [
        "##**5.1 Placement Time of Day**\n",
        "\n",
        "*   Nous avons créé une nouvelle variable (*Placement Time of Day*) pour (*Placement-Time*) afin d'extraire la partie heure pour les deux bases Training_Feature_Eng et Testing_Feature_Eng.\n",
        "\n"
      ]
    },
    {
      "cell_type": "code",
      "metadata": {
        "id": "Zovvig1gOrf8"
      },
      "source": [
        "from datetime import datetime as dt\n",
        "Training_Feature_Eng['Placement - Time'] = Training_Feature_Eng['Placement - Time'].apply(lambda x: dt.strptime(x,'%I:%M:%S %p'))\n",
        "Training_Feature_Eng['Placement Time of Day'] = Training_Feature_Eng['Placement - Time'].dt.hour"
      ],
      "execution_count": null,
      "outputs": []
    },
    {
      "cell_type": "markdown",
      "metadata": {
        "id": "rDGYsTuVSKiH"
      },
      "source": [
        "\n",
        "\n",
        "*   Nous avons créé de nouveaux variables (*Confirmation Time of Day, Pickup Time of Day, Arrival at Pickup Time of Day et Arrival at Destination Time of Day*) pour chaque variable temps comme celle de  (*Placement Time of Day*) pour les convertir en heures.\n",
        "\n"
      ]
    },
    {
      "cell_type": "markdown",
      "metadata": {
        "id": "eWhYgI0jXK92"
      },
      "source": [
        "## **5.2 Actual Day of Placement**"
      ]
    },
    {
      "cell_type": "markdown",
      "metadata": {
        "id": "TnjAWrV1VSXD"
      },
      "source": [
        "\n",
        "\n",
        "*   D'après les statistiques que nous avons fait, nous avons remarqué que le nombre de livraison est très grands en Jour de la semaine par rapport au weekend.\n",
        "*   Nous avons créé de nouvelles variables - Regroupement de la variable \"...Weekday (Mo=1)\" 'Weekday' et 'Weekend'.\n",
        "\n",
        "      1.   Weekday commence du lundi = 1 au vendredi = 5\n",
        "      2.   Weekend commence du samedi = 6 et dimanche = 7\n",
        "\n",
        "\n",
        "\n"
      ]
    },
    {
      "cell_type": "code",
      "metadata": {
        "id": "y4np5YqSX3ZO"
      },
      "source": [
        "Training_Feature_Eng['Actual Day of Placement'] = np.where(Training_Feature_Eng['Placement - Weekday (Mo = 1)']< 6,\n",
        "                                                   'Weekday','Weekend')"
      ],
      "execution_count": null,
      "outputs": []
    },
    {
      "cell_type": "code",
      "metadata": {
        "colab": {
          "base_uri": "https://localhost:8080/"
        },
        "id": "01R3l4gxX5aB",
        "outputId": "a8a26abb-d2a3-498c-ec85-9dd064581ef5"
      },
      "source": [
        "print(Training_Feature_Eng['Actual Day of Placement'].head())"
      ],
      "execution_count": null,
      "outputs": [
        {
          "output_type": "stream",
          "text": [
            "0    Weekday\n",
            "1    Weekday\n",
            "2    Weekday\n",
            "3    Weekday\n",
            "4    Weekday\n",
            "Name: Actual Day of Placement, dtype: object\n"
          ],
          "name": "stdout"
        }
      ]
    },
    {
      "cell_type": "markdown",
      "metadata": {
        "id": "TNnh7In5YUJR"
      },
      "source": [
        "## **5.3 Pickup Latitude , Pickup Longitude**\n",
        "\n",
        "\n",
        "*   Nous avons utilisé Central Business District (CBD) of Nairobi comme référence.\n",
        "*   Nous avons créé  deux nouveaux variables (*Proximity to Pickup Point* et *Proximity to Pickup Destination*) dans lesquels nous avons utilisé les cordonnées (*Pickup Lat* et *Pickup Long*, *Destination Lat* et *Destination Long*) pour calculer la distance en KM par rapport au centre.\n",
        "\n"
      ]
    },
    {
      "cell_type": "code",
      "metadata": {
        "id": "ON_FCJxhbsgm"
      },
      "source": [
        "from geopy.distance import geodesic\n",
        "\n",
        "Training_Feature_Eng['Proximity to Pickup Point'] = np.nan\n",
        "\n",
        "CBD_Nairobi=(-1.299719, 36.816097)\n",
        "\n",
        "for i, row in Training_Feature_Eng.iterrows():\n",
        "    Training_Feature_Eng.loc[i, 'Proximity to Pickup Point'] = geodesic((Training_Feature_Eng.loc[i, 'Pickup Lat'],\n",
        "                                                                  Training_Feature_Eng.loc[i, 'Pickup Long']),CBD_Nairobi).km \n",
        "for i, row in Training_Feature_Eng.iterrows():\n",
        "    Training_Feature_Eng.loc[i, 'Proximity to Destination'] = geodesic((Training_Feature_Eng.loc[i, 'Destination Lat'],\n",
        "                                                                  Training_Feature_Eng.loc[i, 'Destination Long']),CBD_Nairobi).km"
      ],
      "execution_count": null,
      "outputs": []
    },
    {
      "cell_type": "code",
      "metadata": {
        "colab": {
          "base_uri": "https://localhost:8080/"
        },
        "id": "3RaXzlzfb3qY",
        "outputId": "88602454-f902-4d46-faa6-98f3292ca128"
      },
      "source": [
        "print(Training_Feature_Eng['Proximity to Pickup Point'].head())"
      ],
      "execution_count": null,
      "outputs": [
        {
          "output_type": "stream",
          "text": [
            "0     2.549607\n",
            "1    10.885586\n",
            "2     3.184815\n",
            "3     2.727265\n",
            "4     4.531556\n",
            "Name: Proximity to Pickup Point, dtype: float64\n"
          ],
          "name": "stdout"
        }
      ]
    },
    {
      "cell_type": "markdown",
      "metadata": {
        "id": "Ll_qfopClXog"
      },
      "source": [
        "## **5.4 Placement Day of Month**\n",
        "\n",
        "\n",
        "*   Nous avons regroupé les jours du mois en 4 semaines :\n",
        "\n",
        "    1.   1st Week du premier jour au 7ème\n",
        "    2.   2nd Week du 8ème jour au 15ème\n",
        "    3.   3rd Week du 16ème jour au 23ème\n",
        "    4.   4th Week le reste du mois\n",
        "\n",
        "\n",
        "\n"
      ]
    },
    {
      "cell_type": "code",
      "metadata": {
        "id": "FqZbPLoDmB7Y"
      },
      "source": [
        "Place_Day_Month = []\n",
        "\n",
        "for Each_Day in Training_Feature_Eng['Placement - Day of Month']:\n",
        "    if (Each_Day > 0 and Each_Day <=7):\n",
        "        Place_Day_Month.append('1st Week')        \n",
        "    elif (Each_Day > 7 and Each_Day <=15):\n",
        "        Place_Day_Month.append('2nd Week')\n",
        "    elif (Each_Day > 15 and Each_Day <=23):\n",
        "        Place_Day_Month.append('3rd Week')\n",
        "    else:\n",
        "        Place_Day_Month.append('4th Week')\n",
        "        \n",
        "Training_Feature_Eng['Placement_Day into Weeks'] = Place_Day_Month\n"
      ],
      "execution_count": null,
      "outputs": []
    },
    {
      "cell_type": "code",
      "metadata": {
        "colab": {
          "base_uri": "https://localhost:8080/"
        },
        "id": "oB5J31JOnUg7",
        "outputId": "d952d939-66be-4735-ace4-b5c2e67c1e7c"
      },
      "source": [
        "print(Training_Feature_Eng['Placement_Day into Weeks'].head())"
      ],
      "execution_count": null,
      "outputs": [
        {
          "output_type": "stream",
          "text": [
            "0    2nd Week\n",
            "1    2nd Week\n",
            "2    4th Week\n",
            "3    2nd Week\n",
            "4    2nd Week\n",
            "Name: Placement_Day into Weeks, dtype: object\n"
          ],
          "name": "stdout"
        }
      ]
    },
    {
      "cell_type": "markdown",
      "metadata": {
        "id": "rgRpqgpgn41o"
      },
      "source": [
        "\n",
        "\n",
        "*   Nous avons regroupé les autres variables (*Confirmation Day of Month, Arrival at Pickup Day of Month, Pickup Day of Month, Arrival at Destination Day of Month*) en 4 semaines comme (*Placement Day of Month*)\n",
        "\n",
        "\n"
      ]
    },
    {
      "cell_type": "markdown",
      "metadata": {
        "id": "jRfBfME6qOJo"
      },
      "source": [
        "\n",
        "\n",
        "*   **Vérification pour voir le délai de livraison moyen en seconde pour les jours de la semaine et les week-ends pour le placement de la commande**\n",
        "\n",
        "\n",
        "\n"
      ]
    },
    {
      "cell_type": "code",
      "metadata": {
        "colab": {
          "base_uri": "https://localhost:8080/",
          "height": 106
        },
        "id": "GJ-3URfvpzcg",
        "outputId": "357fceee-7057-4dee-bf38-dfcdac8628c2"
      },
      "source": [
        "Weekend_Weekday = Training_Feature_Eng.groupby(['Actual Day of Placement'], as_index=False).mean()\n",
        "Weekend_Weekday[['Actual Day of Placement','Time from Pickup to Arrival']].sort_values('Time from Pickup to Arrival',ascending=False)"
      ],
      "execution_count": null,
      "outputs": [
        {
          "output_type": "execute_result",
          "data": {
            "text/html": [
              "<div>\n",
              "<style scoped>\n",
              "    .dataframe tbody tr th:only-of-type {\n",
              "        vertical-align: middle;\n",
              "    }\n",
              "\n",
              "    .dataframe tbody tr th {\n",
              "        vertical-align: top;\n",
              "    }\n",
              "\n",
              "    .dataframe thead th {\n",
              "        text-align: right;\n",
              "    }\n",
              "</style>\n",
              "<table border=\"1\" class=\"dataframe\">\n",
              "  <thead>\n",
              "    <tr style=\"text-align: right;\">\n",
              "      <th></th>\n",
              "      <th>Actual Day of Placement</th>\n",
              "      <th>Time from Pickup to Arrival</th>\n",
              "    </tr>\n",
              "  </thead>\n",
              "  <tbody>\n",
              "    <tr>\n",
              "      <th>0</th>\n",
              "      <td>Weekday</td>\n",
              "      <td>1562.609337</td>\n",
              "    </tr>\n",
              "    <tr>\n",
              "      <th>1</th>\n",
              "      <td>Weekend</td>\n",
              "      <td>1477.017033</td>\n",
              "    </tr>\n",
              "  </tbody>\n",
              "</table>\n",
              "</div>"
            ],
            "text/plain": [
              "  Actual Day of Placement  Time from Pickup to Arrival\n",
              "0                 Weekday                  1562.609337\n",
              "1                 Weekend                  1477.017033"
            ]
          },
          "metadata": {
            "tags": []
          },
          "execution_count": 27
        }
      ]
    },
    {
      "cell_type": "markdown",
      "metadata": {
        "id": "druwERhsp3r8"
      },
      "source": [
        "\n",
        "*  Nous avons remarqué que dans les week-ends les livraisons sont plus rapide par rapport au jour de la semaine.\n",
        "\n"
      ]
    },
    {
      "cell_type": "markdown",
      "metadata": {
        "id": "IbR1qWDQrJj0"
      },
      "source": [
        "## **5.5 Enregistrer d'autres données nettoyées**\n",
        "\n",
        "\n",
        "*   Séparation des variables catégoriques et des variables numeriques  \n",
        "\n"
      ]
    },
    {
      "cell_type": "code",
      "metadata": {
        "id": "NmrCatMYrfTh"
      },
      "source": [
        "Numeric_Train = Training_Feature_Eng._get_numeric_data()\n",
        "Categorical_Train = Training_Feature_Eng.select_dtypes(include=['object'])"
      ],
      "execution_count": null,
      "outputs": []
    },
    {
      "cell_type": "code",
      "metadata": {
        "colab": {
          "base_uri": "https://localhost:8080/",
          "height": 174
        },
        "id": "ZtGTXOXSrmNb",
        "outputId": "09422613-f7fc-446b-f2b8-bc66e174d5dd"
      },
      "source": [
        "Categorical_Train.head(2)"
      ],
      "execution_count": null,
      "outputs": [
        {
          "output_type": "execute_result",
          "data": {
            "text/html": [
              "<div>\n",
              "<style scoped>\n",
              "    .dataframe tbody tr th:only-of-type {\n",
              "        vertical-align: middle;\n",
              "    }\n",
              "\n",
              "    .dataframe tbody tr th {\n",
              "        vertical-align: top;\n",
              "    }\n",
              "\n",
              "    .dataframe thead th {\n",
              "        text-align: right;\n",
              "    }\n",
              "</style>\n",
              "<table border=\"1\" class=\"dataframe\">\n",
              "  <thead>\n",
              "    <tr style=\"text-align: right;\">\n",
              "      <th></th>\n",
              "      <th>Order No</th>\n",
              "      <th>User Id</th>\n",
              "      <th>Vehicle Type</th>\n",
              "      <th>Personal or Business</th>\n",
              "      <th>Confirmation - Time</th>\n",
              "      <th>Arrival at Pickup - Time</th>\n",
              "      <th>Pickup - Time</th>\n",
              "      <th>Arrival at Destination - Time</th>\n",
              "      <th>Rider Id</th>\n",
              "      <th>Actual Day of Placement</th>\n",
              "      <th>Placement_Day into Weeks</th>\n",
              "    </tr>\n",
              "  </thead>\n",
              "  <tbody>\n",
              "    <tr>\n",
              "      <th>0</th>\n",
              "      <td>Order_No_4211</td>\n",
              "      <td>User_Id_633</td>\n",
              "      <td>Bike</td>\n",
              "      <td>Business</td>\n",
              "      <td>9:40:10 AM</td>\n",
              "      <td>10:04:47 AM</td>\n",
              "      <td>10:27:30 AM</td>\n",
              "      <td>10:39:55 AM</td>\n",
              "      <td>Rider_Id_432</td>\n",
              "      <td>Weekday</td>\n",
              "      <td>2nd Week</td>\n",
              "    </tr>\n",
              "    <tr>\n",
              "      <th>1</th>\n",
              "      <td>Order_No_25375</td>\n",
              "      <td>User_Id_2285</td>\n",
              "      <td>Bike</td>\n",
              "      <td>Personal</td>\n",
              "      <td>11:23:21 AM</td>\n",
              "      <td>11:40:22 AM</td>\n",
              "      <td>11:44:09 AM</td>\n",
              "      <td>12:17:22 PM</td>\n",
              "      <td>Rider_Id_856</td>\n",
              "      <td>Weekday</td>\n",
              "      <td>2nd Week</td>\n",
              "    </tr>\n",
              "  </tbody>\n",
              "</table>\n",
              "</div>"
            ],
            "text/plain": [
              "         Order No  ... Placement_Day into Weeks\n",
              "0   Order_No_4211  ...                 2nd Week\n",
              "1  Order_No_25375  ...                 2nd Week\n",
              "\n",
              "[2 rows x 11 columns]"
            ]
          },
          "metadata": {
            "tags": []
          },
          "execution_count": 29
        }
      ]
    },
    {
      "cell_type": "markdown",
      "metadata": {
        "id": "Rg1H4y3otRoO"
      },
      "source": [
        "## **5.6 Feature Selection**\n",
        "\n",
        "*   Nous avons abandonné certaines variables qui, selon nous, n'avaient aucune influence sur la variable (*Time from Pickup to Arrival*)\n",
        "*   Nous appliquons Label Encoder aux variables catégorielles.\n",
        "\n",
        "*   Nous avons identifié des caractéristiques à faible variance. Ainsi, les caractéristiques qui ont une valeur constante ou qui n'ont pas beaucoup de variabilité. Ces variables peuvent ne pas aider avec la tâche prédictive et peuvent donc être supprimées.\n",
        "*   Encore une fois, nous trouvons la multicolinéarité entre les variables d'entrée. La présence de caractéristiques multicolores gonfle l'erreur standard.\n",
        "\n",
        "\n",
        "\n",
        "\n",
        "\n",
        "\n",
        "\n"
      ]
    },
    {
      "cell_type": "markdown",
      "metadata": {
        "id": "SFz2OyInuHan"
      },
      "source": [
        "\n",
        "\n",
        "### **Supprimer les variables Order No, User Id, Rider Id et Vehicle Type**\n",
        "\n"
      ]
    },
    {
      "cell_type": "code",
      "metadata": {
        "id": "EaGhd39tup1U"
      },
      "source": [
        "Droppers = ['Order No','User Id','Vehicle Type','Rider Id']"
      ],
      "execution_count": null,
      "outputs": []
    },
    {
      "cell_type": "markdown",
      "metadata": {
        "id": "C4dXbcL8u0tU"
      },
      "source": [
        "### **Encodage des Variables**"
      ]
    },
    {
      "cell_type": "code",
      "metadata": {
        "id": "v5u6-Fb-vMsq"
      },
      "source": [
        "Encod_Cate_Train = pd.get_dummies(Categorical_Train)"
      ],
      "execution_count": null,
      "outputs": []
    },
    {
      "cell_type": "code",
      "metadata": {
        "colab": {
          "base_uri": "https://localhost:8080/",
          "height": 294
        },
        "id": "MQ2EM7RsvRyD",
        "outputId": "d9bf639a-23ab-4871-c127-40550602ea83"
      },
      "source": [
        "Encod_Cate_Train.head()"
      ],
      "execution_count": null,
      "outputs": [
        {
          "output_type": "execute_result",
          "data": {
            "text/html": [
              "<div>\n",
              "<style scoped>\n",
              "    .dataframe tbody tr th:only-of-type {\n",
              "        vertical-align: middle;\n",
              "    }\n",
              "\n",
              "    .dataframe tbody tr th {\n",
              "        vertical-align: top;\n",
              "    }\n",
              "\n",
              "    .dataframe thead th {\n",
              "        text-align: right;\n",
              "    }\n",
              "</style>\n",
              "<table border=\"1\" class=\"dataframe\">\n",
              "  <thead>\n",
              "    <tr style=\"text-align: right;\">\n",
              "      <th></th>\n",
              "      <th>Order No_Order_No_1</th>\n",
              "      <th>Order No_Order_No_10</th>\n",
              "      <th>Order No_Order_No_100</th>\n",
              "      <th>Order No_Order_No_1000</th>\n",
              "      <th>Order No_Order_No_10000</th>\n",
              "      <th>Order No_Order_No_10002</th>\n",
              "      <th>Order No_Order_No_10004</th>\n",
              "      <th>Order No_Order_No_10005</th>\n",
              "      <th>Order No_Order_No_10006</th>\n",
              "      <th>Order No_Order_No_10007</th>\n",
              "      <th>Order No_Order_No_10008</th>\n",
              "      <th>Order No_Order_No_10009</th>\n",
              "      <th>Order No_Order_No_1001</th>\n",
              "      <th>Order No_Order_No_10011</th>\n",
              "      <th>Order No_Order_No_10013</th>\n",
              "      <th>Order No_Order_No_10014</th>\n",
              "      <th>Order No_Order_No_10016</th>\n",
              "      <th>Order No_Order_No_10019</th>\n",
              "      <th>Order No_Order_No_1002</th>\n",
              "      <th>Order No_Order_No_10020</th>\n",
              "      <th>Order No_Order_No_10021</th>\n",
              "      <th>Order No_Order_No_10023</th>\n",
              "      <th>Order No_Order_No_10025</th>\n",
              "      <th>Order No_Order_No_10026</th>\n",
              "      <th>Order No_Order_No_10027</th>\n",
              "      <th>Order No_Order_No_10028</th>\n",
              "      <th>Order No_Order_No_10029</th>\n",
              "      <th>Order No_Order_No_1003</th>\n",
              "      <th>Order No_Order_No_10030</th>\n",
              "      <th>Order No_Order_No_10031</th>\n",
              "      <th>Order No_Order_No_10032</th>\n",
              "      <th>Order No_Order_No_10034</th>\n",
              "      <th>Order No_Order_No_10035</th>\n",
              "      <th>Order No_Order_No_10036</th>\n",
              "      <th>Order No_Order_No_10037</th>\n",
              "      <th>Order No_Order_No_10039</th>\n",
              "      <th>Order No_Order_No_10041</th>\n",
              "      <th>Order No_Order_No_10042</th>\n",
              "      <th>Order No_Order_No_10043</th>\n",
              "      <th>Order No_Order_No_10044</th>\n",
              "      <th>...</th>\n",
              "      <th>Rider Id_Rider_Id_930</th>\n",
              "      <th>Rider Id_Rider_Id_931</th>\n",
              "      <th>Rider Id_Rider_Id_932</th>\n",
              "      <th>Rider Id_Rider_Id_933</th>\n",
              "      <th>Rider Id_Rider_Id_934</th>\n",
              "      <th>Rider Id_Rider_Id_935</th>\n",
              "      <th>Rider Id_Rider_Id_936</th>\n",
              "      <th>Rider Id_Rider_Id_937</th>\n",
              "      <th>Rider Id_Rider_Id_938</th>\n",
              "      <th>Rider Id_Rider_Id_939</th>\n",
              "      <th>Rider Id_Rider_Id_94</th>\n",
              "      <th>Rider Id_Rider_Id_940</th>\n",
              "      <th>Rider Id_Rider_Id_941</th>\n",
              "      <th>Rider Id_Rider_Id_942</th>\n",
              "      <th>Rider Id_Rider_Id_943</th>\n",
              "      <th>Rider Id_Rider_Id_944</th>\n",
              "      <th>Rider Id_Rider_Id_946</th>\n",
              "      <th>Rider Id_Rider_Id_947</th>\n",
              "      <th>Rider Id_Rider_Id_948</th>\n",
              "      <th>Rider Id_Rider_Id_949</th>\n",
              "      <th>Rider Id_Rider_Id_95</th>\n",
              "      <th>Rider Id_Rider_Id_950</th>\n",
              "      <th>Rider Id_Rider_Id_951</th>\n",
              "      <th>Rider Id_Rider_Id_952</th>\n",
              "      <th>Rider Id_Rider_Id_953</th>\n",
              "      <th>Rider Id_Rider_Id_954</th>\n",
              "      <th>Rider Id_Rider_Id_955</th>\n",
              "      <th>Rider Id_Rider_Id_956</th>\n",
              "      <th>Rider Id_Rider_Id_958</th>\n",
              "      <th>Rider Id_Rider_Id_959</th>\n",
              "      <th>Rider Id_Rider_Id_96</th>\n",
              "      <th>Rider Id_Rider_Id_97</th>\n",
              "      <th>Rider Id_Rider_Id_98</th>\n",
              "      <th>Rider Id_Rider_Id_99</th>\n",
              "      <th>Actual Day of Placement_Weekday</th>\n",
              "      <th>Actual Day of Placement_Weekend</th>\n",
              "      <th>Placement_Day into Weeks_1st Week</th>\n",
              "      <th>Placement_Day into Weeks_2nd Week</th>\n",
              "      <th>Placement_Day into Weeks_3rd Week</th>\n",
              "      <th>Placement_Day into Weeks_4th Week</th>\n",
              "    </tr>\n",
              "  </thead>\n",
              "  <tbody>\n",
              "    <tr>\n",
              "      <th>0</th>\n",
              "      <td>0</td>\n",
              "      <td>0</td>\n",
              "      <td>0</td>\n",
              "      <td>0</td>\n",
              "      <td>0</td>\n",
              "      <td>0</td>\n",
              "      <td>0</td>\n",
              "      <td>0</td>\n",
              "      <td>0</td>\n",
              "      <td>0</td>\n",
              "      <td>0</td>\n",
              "      <td>0</td>\n",
              "      <td>0</td>\n",
              "      <td>0</td>\n",
              "      <td>0</td>\n",
              "      <td>0</td>\n",
              "      <td>0</td>\n",
              "      <td>0</td>\n",
              "      <td>0</td>\n",
              "      <td>0</td>\n",
              "      <td>0</td>\n",
              "      <td>0</td>\n",
              "      <td>0</td>\n",
              "      <td>0</td>\n",
              "      <td>0</td>\n",
              "      <td>0</td>\n",
              "      <td>0</td>\n",
              "      <td>0</td>\n",
              "      <td>0</td>\n",
              "      <td>0</td>\n",
              "      <td>0</td>\n",
              "      <td>0</td>\n",
              "      <td>0</td>\n",
              "      <td>0</td>\n",
              "      <td>0</td>\n",
              "      <td>0</td>\n",
              "      <td>0</td>\n",
              "      <td>0</td>\n",
              "      <td>0</td>\n",
              "      <td>0</td>\n",
              "      <td>...</td>\n",
              "      <td>0</td>\n",
              "      <td>0</td>\n",
              "      <td>0</td>\n",
              "      <td>0</td>\n",
              "      <td>0</td>\n",
              "      <td>0</td>\n",
              "      <td>0</td>\n",
              "      <td>0</td>\n",
              "      <td>0</td>\n",
              "      <td>0</td>\n",
              "      <td>0</td>\n",
              "      <td>0</td>\n",
              "      <td>0</td>\n",
              "      <td>0</td>\n",
              "      <td>0</td>\n",
              "      <td>0</td>\n",
              "      <td>0</td>\n",
              "      <td>0</td>\n",
              "      <td>0</td>\n",
              "      <td>0</td>\n",
              "      <td>0</td>\n",
              "      <td>0</td>\n",
              "      <td>0</td>\n",
              "      <td>0</td>\n",
              "      <td>0</td>\n",
              "      <td>0</td>\n",
              "      <td>0</td>\n",
              "      <td>0</td>\n",
              "      <td>0</td>\n",
              "      <td>0</td>\n",
              "      <td>0</td>\n",
              "      <td>0</td>\n",
              "      <td>0</td>\n",
              "      <td>0</td>\n",
              "      <td>1</td>\n",
              "      <td>0</td>\n",
              "      <td>0</td>\n",
              "      <td>1</td>\n",
              "      <td>0</td>\n",
              "      <td>0</td>\n",
              "    </tr>\n",
              "    <tr>\n",
              "      <th>1</th>\n",
              "      <td>0</td>\n",
              "      <td>0</td>\n",
              "      <td>0</td>\n",
              "      <td>0</td>\n",
              "      <td>0</td>\n",
              "      <td>0</td>\n",
              "      <td>0</td>\n",
              "      <td>0</td>\n",
              "      <td>0</td>\n",
              "      <td>0</td>\n",
              "      <td>0</td>\n",
              "      <td>0</td>\n",
              "      <td>0</td>\n",
              "      <td>0</td>\n",
              "      <td>0</td>\n",
              "      <td>0</td>\n",
              "      <td>0</td>\n",
              "      <td>0</td>\n",
              "      <td>0</td>\n",
              "      <td>0</td>\n",
              "      <td>0</td>\n",
              "      <td>0</td>\n",
              "      <td>0</td>\n",
              "      <td>0</td>\n",
              "      <td>0</td>\n",
              "      <td>0</td>\n",
              "      <td>0</td>\n",
              "      <td>0</td>\n",
              "      <td>0</td>\n",
              "      <td>0</td>\n",
              "      <td>0</td>\n",
              "      <td>0</td>\n",
              "      <td>0</td>\n",
              "      <td>0</td>\n",
              "      <td>0</td>\n",
              "      <td>0</td>\n",
              "      <td>0</td>\n",
              "      <td>0</td>\n",
              "      <td>0</td>\n",
              "      <td>0</td>\n",
              "      <td>...</td>\n",
              "      <td>0</td>\n",
              "      <td>0</td>\n",
              "      <td>0</td>\n",
              "      <td>0</td>\n",
              "      <td>0</td>\n",
              "      <td>0</td>\n",
              "      <td>0</td>\n",
              "      <td>0</td>\n",
              "      <td>0</td>\n",
              "      <td>0</td>\n",
              "      <td>0</td>\n",
              "      <td>0</td>\n",
              "      <td>0</td>\n",
              "      <td>0</td>\n",
              "      <td>0</td>\n",
              "      <td>0</td>\n",
              "      <td>0</td>\n",
              "      <td>0</td>\n",
              "      <td>0</td>\n",
              "      <td>0</td>\n",
              "      <td>0</td>\n",
              "      <td>0</td>\n",
              "      <td>0</td>\n",
              "      <td>0</td>\n",
              "      <td>0</td>\n",
              "      <td>0</td>\n",
              "      <td>0</td>\n",
              "      <td>0</td>\n",
              "      <td>0</td>\n",
              "      <td>0</td>\n",
              "      <td>0</td>\n",
              "      <td>0</td>\n",
              "      <td>0</td>\n",
              "      <td>0</td>\n",
              "      <td>1</td>\n",
              "      <td>0</td>\n",
              "      <td>0</td>\n",
              "      <td>1</td>\n",
              "      <td>0</td>\n",
              "      <td>0</td>\n",
              "    </tr>\n",
              "    <tr>\n",
              "      <th>2</th>\n",
              "      <td>0</td>\n",
              "      <td>0</td>\n",
              "      <td>0</td>\n",
              "      <td>0</td>\n",
              "      <td>0</td>\n",
              "      <td>0</td>\n",
              "      <td>0</td>\n",
              "      <td>0</td>\n",
              "      <td>0</td>\n",
              "      <td>0</td>\n",
              "      <td>0</td>\n",
              "      <td>0</td>\n",
              "      <td>0</td>\n",
              "      <td>0</td>\n",
              "      <td>0</td>\n",
              "      <td>0</td>\n",
              "      <td>0</td>\n",
              "      <td>0</td>\n",
              "      <td>0</td>\n",
              "      <td>0</td>\n",
              "      <td>0</td>\n",
              "      <td>0</td>\n",
              "      <td>0</td>\n",
              "      <td>0</td>\n",
              "      <td>0</td>\n",
              "      <td>0</td>\n",
              "      <td>0</td>\n",
              "      <td>0</td>\n",
              "      <td>0</td>\n",
              "      <td>0</td>\n",
              "      <td>0</td>\n",
              "      <td>0</td>\n",
              "      <td>0</td>\n",
              "      <td>0</td>\n",
              "      <td>0</td>\n",
              "      <td>0</td>\n",
              "      <td>0</td>\n",
              "      <td>0</td>\n",
              "      <td>0</td>\n",
              "      <td>0</td>\n",
              "      <td>...</td>\n",
              "      <td>0</td>\n",
              "      <td>0</td>\n",
              "      <td>0</td>\n",
              "      <td>0</td>\n",
              "      <td>0</td>\n",
              "      <td>0</td>\n",
              "      <td>0</td>\n",
              "      <td>0</td>\n",
              "      <td>0</td>\n",
              "      <td>0</td>\n",
              "      <td>0</td>\n",
              "      <td>0</td>\n",
              "      <td>0</td>\n",
              "      <td>0</td>\n",
              "      <td>0</td>\n",
              "      <td>0</td>\n",
              "      <td>0</td>\n",
              "      <td>0</td>\n",
              "      <td>0</td>\n",
              "      <td>0</td>\n",
              "      <td>0</td>\n",
              "      <td>0</td>\n",
              "      <td>0</td>\n",
              "      <td>0</td>\n",
              "      <td>0</td>\n",
              "      <td>0</td>\n",
              "      <td>0</td>\n",
              "      <td>0</td>\n",
              "      <td>0</td>\n",
              "      <td>0</td>\n",
              "      <td>0</td>\n",
              "      <td>0</td>\n",
              "      <td>0</td>\n",
              "      <td>0</td>\n",
              "      <td>1</td>\n",
              "      <td>0</td>\n",
              "      <td>0</td>\n",
              "      <td>0</td>\n",
              "      <td>0</td>\n",
              "      <td>1</td>\n",
              "    </tr>\n",
              "    <tr>\n",
              "      <th>3</th>\n",
              "      <td>0</td>\n",
              "      <td>0</td>\n",
              "      <td>0</td>\n",
              "      <td>0</td>\n",
              "      <td>0</td>\n",
              "      <td>0</td>\n",
              "      <td>0</td>\n",
              "      <td>0</td>\n",
              "      <td>0</td>\n",
              "      <td>0</td>\n",
              "      <td>0</td>\n",
              "      <td>0</td>\n",
              "      <td>0</td>\n",
              "      <td>0</td>\n",
              "      <td>0</td>\n",
              "      <td>0</td>\n",
              "      <td>0</td>\n",
              "      <td>0</td>\n",
              "      <td>0</td>\n",
              "      <td>0</td>\n",
              "      <td>0</td>\n",
              "      <td>0</td>\n",
              "      <td>0</td>\n",
              "      <td>0</td>\n",
              "      <td>0</td>\n",
              "      <td>0</td>\n",
              "      <td>0</td>\n",
              "      <td>0</td>\n",
              "      <td>0</td>\n",
              "      <td>0</td>\n",
              "      <td>0</td>\n",
              "      <td>0</td>\n",
              "      <td>0</td>\n",
              "      <td>0</td>\n",
              "      <td>0</td>\n",
              "      <td>0</td>\n",
              "      <td>0</td>\n",
              "      <td>0</td>\n",
              "      <td>0</td>\n",
              "      <td>0</td>\n",
              "      <td>...</td>\n",
              "      <td>0</td>\n",
              "      <td>0</td>\n",
              "      <td>0</td>\n",
              "      <td>0</td>\n",
              "      <td>0</td>\n",
              "      <td>0</td>\n",
              "      <td>0</td>\n",
              "      <td>0</td>\n",
              "      <td>0</td>\n",
              "      <td>0</td>\n",
              "      <td>0</td>\n",
              "      <td>0</td>\n",
              "      <td>0</td>\n",
              "      <td>0</td>\n",
              "      <td>0</td>\n",
              "      <td>0</td>\n",
              "      <td>0</td>\n",
              "      <td>0</td>\n",
              "      <td>0</td>\n",
              "      <td>0</td>\n",
              "      <td>0</td>\n",
              "      <td>0</td>\n",
              "      <td>0</td>\n",
              "      <td>0</td>\n",
              "      <td>0</td>\n",
              "      <td>0</td>\n",
              "      <td>0</td>\n",
              "      <td>0</td>\n",
              "      <td>0</td>\n",
              "      <td>0</td>\n",
              "      <td>0</td>\n",
              "      <td>0</td>\n",
              "      <td>0</td>\n",
              "      <td>0</td>\n",
              "      <td>1</td>\n",
              "      <td>0</td>\n",
              "      <td>0</td>\n",
              "      <td>1</td>\n",
              "      <td>0</td>\n",
              "      <td>0</td>\n",
              "    </tr>\n",
              "    <tr>\n",
              "      <th>4</th>\n",
              "      <td>0</td>\n",
              "      <td>0</td>\n",
              "      <td>0</td>\n",
              "      <td>0</td>\n",
              "      <td>0</td>\n",
              "      <td>0</td>\n",
              "      <td>0</td>\n",
              "      <td>0</td>\n",
              "      <td>0</td>\n",
              "      <td>0</td>\n",
              "      <td>0</td>\n",
              "      <td>0</td>\n",
              "      <td>0</td>\n",
              "      <td>0</td>\n",
              "      <td>0</td>\n",
              "      <td>0</td>\n",
              "      <td>0</td>\n",
              "      <td>0</td>\n",
              "      <td>0</td>\n",
              "      <td>0</td>\n",
              "      <td>0</td>\n",
              "      <td>0</td>\n",
              "      <td>0</td>\n",
              "      <td>0</td>\n",
              "      <td>0</td>\n",
              "      <td>0</td>\n",
              "      <td>0</td>\n",
              "      <td>0</td>\n",
              "      <td>0</td>\n",
              "      <td>0</td>\n",
              "      <td>0</td>\n",
              "      <td>0</td>\n",
              "      <td>0</td>\n",
              "      <td>0</td>\n",
              "      <td>0</td>\n",
              "      <td>0</td>\n",
              "      <td>0</td>\n",
              "      <td>0</td>\n",
              "      <td>0</td>\n",
              "      <td>0</td>\n",
              "      <td>...</td>\n",
              "      <td>0</td>\n",
              "      <td>0</td>\n",
              "      <td>0</td>\n",
              "      <td>0</td>\n",
              "      <td>0</td>\n",
              "      <td>0</td>\n",
              "      <td>0</td>\n",
              "      <td>0</td>\n",
              "      <td>0</td>\n",
              "      <td>0</td>\n",
              "      <td>0</td>\n",
              "      <td>0</td>\n",
              "      <td>0</td>\n",
              "      <td>0</td>\n",
              "      <td>0</td>\n",
              "      <td>0</td>\n",
              "      <td>0</td>\n",
              "      <td>0</td>\n",
              "      <td>0</td>\n",
              "      <td>0</td>\n",
              "      <td>0</td>\n",
              "      <td>0</td>\n",
              "      <td>0</td>\n",
              "      <td>0</td>\n",
              "      <td>0</td>\n",
              "      <td>0</td>\n",
              "      <td>0</td>\n",
              "      <td>0</td>\n",
              "      <td>0</td>\n",
              "      <td>0</td>\n",
              "      <td>0</td>\n",
              "      <td>0</td>\n",
              "      <td>0</td>\n",
              "      <td>0</td>\n",
              "      <td>1</td>\n",
              "      <td>0</td>\n",
              "      <td>0</td>\n",
              "      <td>1</td>\n",
              "      <td>0</td>\n",
              "      <td>0</td>\n",
              "    </tr>\n",
              "  </tbody>\n",
              "</table>\n",
              "<p>5 rows × 88244 columns</p>\n",
              "</div>"
            ],
            "text/plain": [
              "   Order No_Order_No_1  ...  Placement_Day into Weeks_4th Week\n",
              "0                    0  ...                                  0\n",
              "1                    0  ...                                  0\n",
              "2                    0  ...                                  1\n",
              "3                    0  ...                                  0\n",
              "4                    0  ...                                  0\n",
              "\n",
              "[5 rows x 88244 columns]"
            ]
          },
          "metadata": {
            "tags": []
          },
          "execution_count": 32
        }
      ]
    },
    {
      "cell_type": "markdown",
      "metadata": {
        "id": "h5v91ccdvgp6"
      },
      "source": [
        "\n",
        "\n",
        "*   Dans la fonction ci-dessous, nous avons calculé le facteur d'inflation de la variance (VIF) et déterminons et supprimons les caractéristiques qui ont une faible variance\n",
        "\n",
        "\n"
      ]
    },
    {
      "cell_type": "code",
      "metadata": {
        "colab": {
          "base_uri": "https://localhost:8080/"
        },
        "id": "6leQA0XlvpG4",
        "outputId": "b94401fd-be3f-4d2a-e9a1-b7748df690d7"
      },
      "source": [
        "from statsmodels.stats.outliers_influence import variance_inflation_factor\n",
        "def VIF(Numeric_Train, thresh=15):\n",
        "    variables = list(range(Numeric_Train.shape[1]))\n",
        "    dropped = True\n",
        "    while dropped:\n",
        "        dropped = False\n",
        "        vif = [variance_inflation_factor(Numeric_Train.iloc[:, variables].values, ix)\n",
        "               for ix in range(Numeric_Train.iloc[:, variables].shape[1])]\n",
        "        maxloc = vif.index(max(vif))\n",
        "        if max(vif) > thresh:\n",
        "            print('dropping \\'' + Numeric_Train.iloc[:, variables].columns[maxloc] + '\\' at index: ' + str(maxloc))\n",
        "            del variables[maxloc]\n",
        "            dropped = True\n",
        "\n",
        "    print('Remaining Variables are :')\n",
        "    print(Numeric_Train.columns[variables])\n",
        "    return Numeric_Train.iloc[:, variables]"
      ],
      "execution_count": null,
      "outputs": [
        {
          "output_type": "stream",
          "text": [
            "/usr/local/lib/python3.7/dist-packages/statsmodels/tools/_testing.py:19: FutureWarning: pandas.util.testing is deprecated. Use the functions in the public API at pandas.testing instead.\n",
            "  import pandas.util.testing as tm\n"
          ],
          "name": "stderr"
        }
      ]
    },
    {
      "cell_type": "code",
      "metadata": {
        "id": "9v7JHRcMvtL1"
      },
      "source": [
        "Cleaned_Train = VIF(Numeric_Train,15)"
      ],
      "execution_count": null,
      "outputs": []
    },
    {
      "cell_type": "markdown",
      "metadata": {
        "id": "Y5lUpMbEwAmP"
      },
      "source": [
        "\n",
        "\n",
        "*   Nous remarquons qu'il ya plusieurs variables qui n'ont pas d'influence sur la variable Target et qu'il reste sseulement les variables : 'Platform Type', 'Placement - Weekday (Mo = 1)',\n",
        "       'Arrival at Destination - Day of Month', 'Distance (KM)',\n",
        "       'Precipitation in millimeters', 'Time from Pickup to Arrival',\n",
        "       'Proximity to Pickup Point', 'Proximity to Destination'\n",
        "\n",
        "\n"
      ]
    },
    {
      "cell_type": "markdown",
      "metadata": {
        "id": "hGh1p2MjxA_Y"
      },
      "source": [
        "### **Concaténation des données encodées avec des données nettoyées**"
      ]
    },
    {
      "cell_type": "code",
      "metadata": {
        "id": "NJ0jKTFRxHVV"
      },
      "source": [
        "Training_Cleaned = pd.concat([Encod_Cate_Train, Cleaned_Train], axis=1)"
      ],
      "execution_count": null,
      "outputs": []
    }
  ]
}